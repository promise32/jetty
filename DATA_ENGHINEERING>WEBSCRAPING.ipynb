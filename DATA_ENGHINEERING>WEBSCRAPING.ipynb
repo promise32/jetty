{
  "nbformat": 4,
  "nbformat_minor": 0,
  "metadata": {
    "colab": {
      "provenance": [],
      "authorship_tag": "ABX9TyNxWsHnMR4/RGO4MbhRF29D",
      "include_colab_link": true
    },
    "kernelspec": {
      "name": "python3",
      "display_name": "Python 3"
    },
    "language_info": {
      "name": "python"
    }
  },
  "cells": [
    {
      "cell_type": "markdown",
      "metadata": {
        "id": "view-in-github",
        "colab_type": "text"
      },
      "source": [
        "<a href=\"https://colab.research.google.com/github/promise32/jetty/blob/main/DATA_ENGHINEERING%3EWEBSCRAPING.ipynb\" target=\"_parent\"><img src=\"https://colab.research.google.com/assets/colab-badge.svg\" alt=\"Open In Colab\"/></a>"
      ]
    },
    {
      "cell_type": "code",
      "execution_count": null,
      "metadata": {
        "id": "q5UKU_1dbzyQ"
      },
      "outputs": [],
      "source": []
    },
    {
      "cell_type": "markdown",
      "source": [
        "#Extracting Stock Data Using a Web Scraping"
      ],
      "metadata": {
        "id": "uQ5TSyJrb52C"
      }
    },
    {
      "cell_type": "markdown",
      "source": [],
      "metadata": {
        "id": "aQQLvFVib4Xi"
      }
    },
    {
      "cell_type": "code",
      "source": [
        "!pip install pandas==1.3.3\n",
        "!pip install requests==2.26.0\n",
        "!mamba install bs4==4.10.0 -y\n",
        "!mamba install html5lib==1.1 -y\n",
        "!pip install lxml==4.6.4\n",
        "!pip install plotly==5.3.1"
      ],
      "metadata": {
        "colab": {
          "base_uri": "https://localhost:8080/"
        },
        "id": "Q4mrZMjYcWP2",
        "outputId": "67bef67a-c6d7-4ffc-b712-aa7f3849e7cc"
      },
      "execution_count": 1,
      "outputs": [
        {
          "output_type": "stream",
          "name": "stdout",
          "text": [
            "Collecting pandas==1.3.3\n",
            "  Downloading pandas-1.3.3-cp310-cp310-manylinux_2_17_x86_64.manylinux2014_x86_64.whl (11.5 MB)\n",
            "\u001b[2K     \u001b[90m━━━━━━━━━━━━━━━━━━━━━━━━━━━━━━━━━━━━━━━━\u001b[0m \u001b[32m11.5/11.5 MB\u001b[0m \u001b[31m59.2 MB/s\u001b[0m eta \u001b[36m0:00:00\u001b[0m\n",
            "\u001b[?25hRequirement already satisfied: numpy>=1.17.3 in /usr/local/lib/python3.10/dist-packages (from pandas==1.3.3) (1.22.4)\n",
            "Requirement already satisfied: python-dateutil>=2.7.3 in /usr/local/lib/python3.10/dist-packages (from pandas==1.3.3) (2.8.2)\n",
            "Requirement already satisfied: pytz>=2017.3 in /usr/local/lib/python3.10/dist-packages (from pandas==1.3.3) (2022.7.1)\n",
            "Requirement already satisfied: six>=1.5 in /usr/local/lib/python3.10/dist-packages (from python-dateutil>=2.7.3->pandas==1.3.3) (1.16.0)\n",
            "Installing collected packages: pandas\n",
            "  Attempting uninstall: pandas\n",
            "    Found existing installation: pandas 1.5.3\n",
            "    Uninstalling pandas-1.5.3:\n",
            "      Successfully uninstalled pandas-1.5.3\n",
            "\u001b[31mERROR: pip's dependency resolver does not currently take into account all the packages that are installed. This behaviour is the source of the following dependency conflicts.\n",
            "google-colab 1.0.0 requires pandas==1.5.3, but you have pandas 1.3.3 which is incompatible.\n",
            "mizani 0.8.1 requires pandas>=1.3.5, but you have pandas 1.3.3 which is incompatible.\n",
            "plotnine 0.10.1 requires pandas>=1.3.5, but you have pandas 1.3.3 which is incompatible.\u001b[0m\u001b[31m\n",
            "\u001b[0mSuccessfully installed pandas-1.3.3\n",
            "Collecting requests==2.26.0\n",
            "  Downloading requests-2.26.0-py2.py3-none-any.whl (62 kB)\n",
            "\u001b[2K     \u001b[90m━━━━━━━━━━━━━━━━━━━━━━━━━━━━━━━━━━━━━━━━\u001b[0m \u001b[32m62.3/62.3 kB\u001b[0m \u001b[31m1.7 MB/s\u001b[0m eta \u001b[36m0:00:00\u001b[0m\n",
            "\u001b[?25hRequirement already satisfied: urllib3<1.27,>=1.21.1 in /usr/local/lib/python3.10/dist-packages (from requests==2.26.0) (1.26.16)\n",
            "Requirement already satisfied: certifi>=2017.4.17 in /usr/local/lib/python3.10/dist-packages (from requests==2.26.0) (2023.5.7)\n",
            "Requirement already satisfied: charset-normalizer~=2.0.0 in /usr/local/lib/python3.10/dist-packages (from requests==2.26.0) (2.0.12)\n",
            "Requirement already satisfied: idna<4,>=2.5 in /usr/local/lib/python3.10/dist-packages (from requests==2.26.0) (3.4)\n",
            "Installing collected packages: requests\n",
            "  Attempting uninstall: requests\n",
            "    Found existing installation: requests 2.27.1\n",
            "    Uninstalling requests-2.27.1:\n",
            "      Successfully uninstalled requests-2.27.1\n",
            "\u001b[31mERROR: pip's dependency resolver does not currently take into account all the packages that are installed. This behaviour is the source of the following dependency conflicts.\n",
            "google-colab 1.0.0 requires pandas==1.5.3, but you have pandas 1.3.3 which is incompatible.\n",
            "google-colab 1.0.0 requires requests==2.27.1, but you have requests 2.26.0 which is incompatible.\n",
            "tweepy 4.13.0 requires requests<3,>=2.27.0, but you have requests 2.26.0 which is incompatible.\u001b[0m\u001b[31m\n",
            "\u001b[0mSuccessfully installed requests-2.26.0\n",
            "/bin/bash: line 1: mamba: command not found\n",
            "/bin/bash: line 1: mamba: command not found\n",
            "Collecting lxml==4.6.4\n",
            "  Downloading lxml-4.6.4-cp310-cp310-manylinux_2_17_x86_64.manylinux2014_x86_64.manylinux_2_24_x86_64.whl (6.9 MB)\n",
            "\u001b[2K     \u001b[90m━━━━━━━━━━━━━━━━━━━━━━━━━━━━━━━━━━━━━━━━\u001b[0m \u001b[32m6.9/6.9 MB\u001b[0m \u001b[31m62.4 MB/s\u001b[0m eta \u001b[36m0:00:00\u001b[0m\n",
            "\u001b[?25hInstalling collected packages: lxml\n",
            "  Attempting uninstall: lxml\n",
            "    Found existing installation: lxml 4.9.3\n",
            "    Uninstalling lxml-4.9.3:\n",
            "      Successfully uninstalled lxml-4.9.3\n",
            "\u001b[31mERROR: pip's dependency resolver does not currently take into account all the packages that are installed. This behaviour is the source of the following dependency conflicts.\n",
            "yfinance 0.2.25 requires lxml>=4.9.1, but you have lxml 4.6.4 which is incompatible.\u001b[0m\u001b[31m\n",
            "\u001b[0mSuccessfully installed lxml-4.6.4\n",
            "Collecting plotly==5.3.1\n",
            "  Downloading plotly-5.3.1-py2.py3-none-any.whl (23.9 MB)\n",
            "\u001b[2K     \u001b[90m━━━━━━━━━━━━━━━━━━━━━━━━━━━━━━━━━━━━━━━━\u001b[0m \u001b[32m23.9/23.9 MB\u001b[0m \u001b[31m64.2 MB/s\u001b[0m eta \u001b[36m0:00:00\u001b[0m\n",
            "\u001b[?25hRequirement already satisfied: tenacity>=6.2.0 in /usr/local/lib/python3.10/dist-packages (from plotly==5.3.1) (8.2.2)\n",
            "Requirement already satisfied: six in /usr/local/lib/python3.10/dist-packages (from plotly==5.3.1) (1.16.0)\n",
            "Installing collected packages: plotly\n",
            "  Attempting uninstall: plotly\n",
            "    Found existing installation: plotly 5.13.1\n",
            "    Uninstalling plotly-5.13.1:\n",
            "      Successfully uninstalled plotly-5.13.1\n",
            "Successfully installed plotly-5.3.1\n"
          ]
        }
      ]
    },
    {
      "cell_type": "code",
      "source": [
        "import pandas as pd\n",
        "import requests\n",
        "from bs4 import BeautifulSoup"
      ],
      "metadata": {
        "id": "EeW1D859dHTE"
      },
      "execution_count": 2,
      "outputs": []
    },
    {
      "cell_type": "code",
      "source": [
        "URL = \"https://finance.yahoo.com/quote/NFLX/history?period1=1439078400&period2=1623196800&interval=1mo&filter=history&frequency=1mo&includeAdjustedClose=true\"\n"
      ],
      "metadata": {
        "id": "lXzIWR7xdcpe"
      },
      "execution_count": 4,
      "outputs": []
    },
    {
      "cell_type": "code",
      "source": [
        "data  = requests.get(URL).text\n",
        "print(data)"
      ],
      "metadata": {
        "colab": {
          "base_uri": "https://localhost:8080/"
        },
        "id": "bE8zvl-zdgcP",
        "outputId": "71ab8a65-2585-41f6-8e3a-aa321b345cf5"
      },
      "execution_count": 5,
      "outputs": [
        {
          "output_type": "stream",
          "name": "stdout",
          "text": [
            "<!DOCTYPE html>\n",
            "  <html lang=\"en-us\"><head>\n",
            "  <meta http-equiv=\"content-type\" content=\"text/html; charset=UTF-8\">\n",
            "      <meta charset=\"utf-8\">\n",
            "      <title>Yahoo</title>\n",
            "      <meta name=\"viewport\" content=\"width=device-width,initial-scale=1,minimal-ui\">\n",
            "      <meta http-equiv=\"X-UA-Compatible\" content=\"IE=edge,chrome=1\">\n",
            "      <style>\n",
            "  html {\n",
            "      height: 100%;\n",
            "  }\n",
            "  body {\n",
            "      background: #fafafc url(https://s.yimg.com/nn/img/sad-panda-201402200631.png) 50% 50%;\n",
            "      background-size: cover;\n",
            "      height: 100%;\n",
            "      text-align: center;\n",
            "      font: 300 18px \"helvetica neue\", helvetica, verdana, tahoma, arial, sans-serif;\n",
            "  }\n",
            "  table {\n",
            "      height: 100%;\n",
            "      width: 100%;\n",
            "      table-layout: fixed;\n",
            "      border-collapse: collapse;\n",
            "      border-spacing: 0;\n",
            "      border: none;\n",
            "  }\n",
            "  h1 {\n",
            "      font-size: 42px;\n",
            "      font-weight: 400;\n",
            "      color: #400090;\n",
            "  }\n",
            "  p {\n",
            "      color: #1A1A1A;\n",
            "  }\n",
            "  #message-1 {\n",
            "      font-weight: bold;\n",
            "      margin: 0;\n",
            "  }\n",
            "  #message-2 {\n",
            "      display: inline-block;\n",
            "      *display: inline;\n",
            "      zoom: 1;\n",
            "      max-width: 17em;\n",
            "      _width: 17em;\n",
            "  }\n",
            "      </style>\n",
            "  <script>\n",
            "    document.write('<img src=\"//geo.yahoo.com/b?s=1197757129&t='+new Date().getTime()+'&src=aws&err_url='+encodeURIComponent(document.URL)+'&err=%<pssc>&test='+encodeURIComponent('%<{Bucket}cqh[:200]>')+'\" width=\"0px\" height=\"0px\"/>');var beacon = new Image();beacon.src=\"//bcn.fp.yahoo.com/p?s=1197757129&t=\"+new Date().getTime()+\"&src=aws&err_url=\"+encodeURIComponent(document.URL)+\"&err=%<pssc>&test=\"+encodeURIComponent('%<{Bucket}cqh[:200]>');\n",
            "  </script>\n",
            "  </head>\n",
            "  <body>\n",
            "  <!-- status code : 404 -->\n",
            "  <!-- Not Found on Server -->\n",
            "  <table>\n",
            "  <tbody><tr>\n",
            "      <td>\n",
            "      <img src=\"https://s.yimg.com/rz/p/yahoo_frontpage_en-US_s_f_p_205x58_frontpage.png\" alt=\"Yahoo Logo\">\n",
            "      <h1 style=\"margin-top:20px;\">Will be right back...</h1>\n",
            "      <p id=\"message-1\">Thank you for your patience.</p>\n",
            "      <p id=\"message-2\">Our engineers are working quickly to resolve the issue.</p>\n",
            "      </td>\n",
            "  </tr>\n",
            "  </tbody></table>\n",
            "  </body></html>\n"
          ]
        }
      ]
    },
    {
      "cell_type": "code",
      "source": [
        "soup = BeautifulSoup(data, 'html5lib')"
      ],
      "metadata": {
        "id": "-q_fwB_ufIZg"
      },
      "execution_count": 6,
      "outputs": []
    },
    {
      "cell_type": "markdown",
      "source": [
        "##WE CAN PRINT THE WEBSCRAPED DATA IN A NESTED FORMAT WITH THE PRETTIFY FUNCTION"
      ],
      "metadata": {
        "id": "Irh2vnUNfZXB"
      }
    },
    {
      "cell_type": "code",
      "source": [
        "print(soup.prettify())"
      ],
      "metadata": {
        "colab": {
          "base_uri": "https://localhost:8080/"
        },
        "id": "_oOmD0dbeIj0",
        "outputId": "715c70b1-7d4b-4bd1-a814-9af1625a157c"
      },
      "execution_count": 7,
      "outputs": [
        {
          "output_type": "stream",
          "name": "stdout",
          "text": [
            "<!DOCTYPE html>\n",
            "<html lang=\"en-us\">\n",
            " <head>\n",
            "  <meta content=\"text/html; charset=utf-8\" http-equiv=\"content-type\"/>\n",
            "  <meta charset=\"utf-8\"/>\n",
            "  <title>\n",
            "   Yahoo\n",
            "  </title>\n",
            "  <meta content=\"width=device-width,initial-scale=1,minimal-ui\" name=\"viewport\"/>\n",
            "  <meta content=\"IE=edge,chrome=1\" http-equiv=\"X-UA-Compatible\"/>\n",
            "  <style>\n",
            "   html {\n",
            "      height: 100%;\n",
            "  }\n",
            "  body {\n",
            "      background: #fafafc url(https://s.yimg.com/nn/img/sad-panda-201402200631.png) 50% 50%;\n",
            "      background-size: cover;\n",
            "      height: 100%;\n",
            "      text-align: center;\n",
            "      font: 300 18px \"helvetica neue\", helvetica, verdana, tahoma, arial, sans-serif;\n",
            "  }\n",
            "  table {\n",
            "      height: 100%;\n",
            "      width: 100%;\n",
            "      table-layout: fixed;\n",
            "      border-collapse: collapse;\n",
            "      border-spacing: 0;\n",
            "      border: none;\n",
            "  }\n",
            "  h1 {\n",
            "      font-size: 42px;\n",
            "      font-weight: 400;\n",
            "      color: #400090;\n",
            "  }\n",
            "  p {\n",
            "      color: #1A1A1A;\n",
            "  }\n",
            "  #message-1 {\n",
            "      font-weight: bold;\n",
            "      margin: 0;\n",
            "  }\n",
            "  #message-2 {\n",
            "      display: inline-block;\n",
            "      *display: inline;\n",
            "      zoom: 1;\n",
            "      max-width: 17em;\n",
            "      _width: 17em;\n",
            "  }\n",
            "  </style>\n",
            "  <script>\n",
            "   document.write('<img src=\"//geo.yahoo.com/b?s=1197757129&t='+new Date().getTime()+'&src=aws&err_url='+encodeURIComponent(document.URL)+'&err=%<pssc>&test='+encodeURIComponent('%<{Bucket}cqh[:200]>')+'\" width=\"0px\" height=\"0px\"/>');var beacon = new Image();beacon.src=\"//bcn.fp.yahoo.com/p?s=1197757129&t=\"+new Date().getTime()+\"&src=aws&err_url=\"+encodeURIComponent(document.URL)+\"&err=%<pssc>&test=\"+encodeURIComponent('%<{Bucket}cqh[:200]>');\n",
            "  </script>\n",
            " </head>\n",
            " <body>\n",
            "  <!-- status code : 404 -->\n",
            "  <!-- Not Found on Server -->\n",
            "  <table>\n",
            "   <tbody>\n",
            "    <tr>\n",
            "     <td>\n",
            "      <img alt=\"Yahoo Logo\" src=\"https://s.yimg.com/rz/p/yahoo_frontpage_en-US_s_f_p_205x58_frontpage.png\"/>\n",
            "      <h1 style=\"margin-top:20px;\">\n",
            "       Will be right back...\n",
            "      </h1>\n",
            "      <p id=\"message-1\">\n",
            "       Thank you for your patience.\n",
            "      </p>\n",
            "      <p id=\"message-2\">\n",
            "       Our engineers are working quickly to resolve the issue.\n",
            "      </p>\n",
            "     </td>\n",
            "    </tr>\n",
            "   </tbody>\n",
            "  </table>\n",
            " </body>\n",
            "</html>\n"
          ]
        }
      ]
    },
    {
      "cell_type": "code",
      "source": [],
      "metadata": {
        "id": "GvBBIBaUipXb"
      },
      "execution_count": null,
      "outputs": []
    },
    {
      "cell_type": "markdown",
      "source": [
        "#WE CAN TAG AND PRINT OBJECT TITLE"
      ],
      "metadata": {
        "id": "VfWjM7nEgYoU"
      }
    },
    {
      "cell_type": "code",
      "source": [
        "tag_object=soup.title\n",
        "print(\"tag object:\",tag_object)"
      ],
      "metadata": {
        "colab": {
          "base_uri": "https://localhost:8080/"
        },
        "id": "UyHFu7ZYgBOz",
        "outputId": "88b13def-48bc-4ef5-d49e-6ee4fab0b3f7"
      },
      "execution_count": 9,
      "outputs": [
        {
          "output_type": "stream",
          "name": "stdout",
          "text": [
            "tag object: <title>Yahoo</title>\n"
          ]
        }
      ]
    },
    {
      "cell_type": "markdown",
      "source": [
        "#WE CAN TAG THE PARENT, CHILD AND SIBLINGS"
      ],
      "metadata": {
        "id": "AbTrDYgLhTyK"
      }
    },
    {
      "cell_type": "code",
      "source": [
        "tag_child =tag_object.b\n",
        "tag_child"
      ],
      "metadata": {
        "id": "ECYkB2Rygoms"
      },
      "execution_count": 11,
      "outputs": []
    },
    {
      "cell_type": "code",
      "source": [
        "tag_object.parent"
      ],
      "metadata": {
        "colab": {
          "base_uri": "https://localhost:8080/"
        },
        "id": "qfz7_BImitZE",
        "outputId": "8658b442-cfe1-42fe-f347-7c3881019e7e"
      },
      "execution_count": 12,
      "outputs": [
        {
          "output_type": "execute_result",
          "data": {
            "text/plain": [
              "<head>\n",
              "  <meta content=\"text/html; charset=utf-8\" http-equiv=\"content-type\"/>\n",
              "      <meta charset=\"utf-8\"/>\n",
              "      <title>Yahoo</title>\n",
              "      <meta content=\"width=device-width,initial-scale=1,minimal-ui\" name=\"viewport\"/>\n",
              "      <meta content=\"IE=edge,chrome=1\" http-equiv=\"X-UA-Compatible\"/>\n",
              "      <style>\n",
              "  html {\n",
              "      height: 100%;\n",
              "  }\n",
              "  body {\n",
              "      background: #fafafc url(https://s.yimg.com/nn/img/sad-panda-201402200631.png) 50% 50%;\n",
              "      background-size: cover;\n",
              "      height: 100%;\n",
              "      text-align: center;\n",
              "      font: 300 18px \"helvetica neue\", helvetica, verdana, tahoma, arial, sans-serif;\n",
              "  }\n",
              "  table {\n",
              "      height: 100%;\n",
              "      width: 100%;\n",
              "      table-layout: fixed;\n",
              "      border-collapse: collapse;\n",
              "      border-spacing: 0;\n",
              "      border: none;\n",
              "  }\n",
              "  h1 {\n",
              "      font-size: 42px;\n",
              "      font-weight: 400;\n",
              "      color: #400090;\n",
              "  }\n",
              "  p {\n",
              "      color: #1A1A1A;\n",
              "  }\n",
              "  #message-1 {\n",
              "      font-weight: bold;\n",
              "      margin: 0;\n",
              "  }\n",
              "  #message-2 {\n",
              "      display: inline-block;\n",
              "      *display: inline;\n",
              "      zoom: 1;\n",
              "      max-width: 17em;\n",
              "      _width: 17em;\n",
              "  }\n",
              "      </style>\n",
              "  <script>\n",
              "    document.write('<img src=\"//geo.yahoo.com/b?s=1197757129&t='+new Date().getTime()+'&src=aws&err_url='+encodeURIComponent(document.URL)+'&err=%<pssc>&test='+encodeURIComponent('%<{Bucket}cqh[:200]>')+'\" width=\"0px\" height=\"0px\"/>');var beacon = new Image();beacon.src=\"//bcn.fp.yahoo.com/p?s=1197757129&t=\"+new Date().getTime()+\"&src=aws&err_url=\"+encodeURIComponent(document.URL)+\"&err=%<pssc>&test=\"+encodeURIComponent('%<{Bucket}cqh[:200]>');\n",
              "  </script>\n",
              "  </head>"
            ]
          },
          "metadata": {},
          "execution_count": 12
        }
      ]
    },
    {
      "cell_type": "markdown",
      "source": [
        "####We can parse the scraped datas for analysis:\n",
        "Open the html website to see how many column, use the column header to create a pandas data frame.\n",
        "\n",
        "\n",
        "---\n",
        "\n"
      ],
      "metadata": {
        "id": "6mhJf2Ubj14j"
      }
    },
    {
      "cell_type": "code",
      "source": [
        "etflix_data = pd.DataFrame(columns=[\"Date\", \"Open\", \"High\", \"Low\", \"Close\", \"Volume\"])"
      ],
      "metadata": {
        "id": "3A8anW3gkAVp"
      },
      "execution_count": 16,
      "outputs": []
    },
    {
      "cell_type": "code",
      "source": [
        "!pip install requests==2.26.0"
      ],
      "metadata": {
        "colab": {
          "base_uri": "https://localhost:8080/"
        },
        "id": "9Nhy9fTLmMzy",
        "outputId": "80391280-ecaf-4d99-d552-07aee0bba233"
      },
      "execution_count": 19,
      "outputs": [
        {
          "output_type": "stream",
          "name": "stdout",
          "text": [
            "Requirement already satisfied: requests==2.26.0 in /usr/local/lib/python3.10/dist-packages (2.26.0)\n",
            "Requirement already satisfied: urllib3<1.27,>=1.21.1 in /usr/local/lib/python3.10/dist-packages (from requests==2.26.0) (1.26.16)\n",
            "Requirement already satisfied: certifi>=2017.4.17 in /usr/local/lib/python3.10/dist-packages (from requests==2.26.0) (2023.5.7)\n",
            "Requirement already satisfied: charset-normalizer~=2.0.0 in /usr/local/lib/python3.10/dist-packages (from requests==2.26.0) (2.0.12)\n",
            "Requirement already satisfied: idna<4,>=2.5 in /usr/local/lib/python3.10/dist-packages (from requests==2.26.0) (3.4)\n"
          ]
        }
      ]
    },
    {
      "cell_type": "code",
      "source": [
        "!pip install requests_html\n",
        "import requests_html"
      ],
      "metadata": {
        "colab": {
          "base_uri": "https://localhost:8080/"
        },
        "id": "qqu_1nD2nHa1",
        "outputId": "e0496390-bd98-433d-8535-a61eb98148e9"
      },
      "execution_count": 21,
      "outputs": [
        {
          "output_type": "stream",
          "name": "stdout",
          "text": [
            "Collecting requests_html\n",
            "  Downloading requests_html-0.10.0-py3-none-any.whl (13 kB)\n",
            "Requirement already satisfied: requests in /usr/local/lib/python3.10/dist-packages (from requests_html) (2.26.0)\n",
            "Collecting pyquery (from requests_html)\n",
            "  Downloading pyquery-2.0.0-py3-none-any.whl (22 kB)\n",
            "Collecting fake-useragent (from requests_html)\n",
            "  Downloading fake_useragent-1.1.3-py3-none-any.whl (50 kB)\n",
            "\u001b[2K     \u001b[90m━━━━━━━━━━━━━━━━━━━━━━━━━━━━━━━━━━━━━━━━\u001b[0m \u001b[32m50.5/50.5 kB\u001b[0m \u001b[31m1.9 MB/s\u001b[0m eta \u001b[36m0:00:00\u001b[0m\n",
            "\u001b[?25hCollecting parse (from requests_html)\n",
            "  Downloading parse-1.19.1-py2.py3-none-any.whl (18 kB)\n",
            "Collecting bs4 (from requests_html)\n",
            "  Downloading bs4-0.0.1.tar.gz (1.1 kB)\n",
            "  Preparing metadata (setup.py) ... \u001b[?25l\u001b[?25hdone\n",
            "Collecting w3lib (from requests_html)\n",
            "  Downloading w3lib-2.1.1-py3-none-any.whl (21 kB)\n",
            "Collecting pyppeteer>=0.0.14 (from requests_html)\n",
            "  Downloading pyppeteer-1.0.2-py3-none-any.whl (83 kB)\n",
            "\u001b[2K     \u001b[90m━━━━━━━━━━━━━━━━━━━━━━━━━━━━━━━━━━━━━━━━\u001b[0m \u001b[32m83.4/83.4 kB\u001b[0m \u001b[31m8.5 MB/s\u001b[0m eta \u001b[36m0:00:00\u001b[0m\n",
            "\u001b[?25hRequirement already satisfied: appdirs<2.0.0,>=1.4.3 in /usr/local/lib/python3.10/dist-packages (from pyppeteer>=0.0.14->requests_html) (1.4.4)\n",
            "Requirement already satisfied: certifi>=2021 in /usr/local/lib/python3.10/dist-packages (from pyppeteer>=0.0.14->requests_html) (2023.5.7)\n",
            "Requirement already satisfied: importlib-metadata>=1.4 in /usr/lib/python3/dist-packages (from pyppeteer>=0.0.14->requests_html) (4.6.4)\n",
            "Collecting pyee<9.0.0,>=8.1.0 (from pyppeteer>=0.0.14->requests_html)\n",
            "  Downloading pyee-8.2.2-py2.py3-none-any.whl (12 kB)\n",
            "Requirement already satisfied: tqdm<5.0.0,>=4.42.1 in /usr/local/lib/python3.10/dist-packages (from pyppeteer>=0.0.14->requests_html) (4.65.0)\n",
            "Requirement already satisfied: urllib3<2.0.0,>=1.25.8 in /usr/local/lib/python3.10/dist-packages (from pyppeteer>=0.0.14->requests_html) (1.26.16)\n",
            "Collecting websockets<11.0,>=10.0 (from pyppeteer>=0.0.14->requests_html)\n",
            "  Downloading websockets-10.4-cp310-cp310-manylinux_2_5_x86_64.manylinux1_x86_64.manylinux_2_17_x86_64.manylinux2014_x86_64.whl (106 kB)\n",
            "\u001b[2K     \u001b[90m━━━━━━━━━━━━━━━━━━━━━━━━━━━━━━━━━━━━━━\u001b[0m \u001b[32m106.8/106.8 kB\u001b[0m \u001b[31m13.3 MB/s\u001b[0m eta \u001b[36m0:00:00\u001b[0m\n",
            "\u001b[?25hRequirement already satisfied: beautifulsoup4 in /usr/local/lib/python3.10/dist-packages (from bs4->requests_html) (4.11.2)\n",
            "Requirement already satisfied: lxml>=2.1 in /usr/local/lib/python3.10/dist-packages (from pyquery->requests_html) (4.6.4)\n",
            "Collecting cssselect>=1.2.0 (from pyquery->requests_html)\n",
            "  Downloading cssselect-1.2.0-py2.py3-none-any.whl (18 kB)\n",
            "Requirement already satisfied: charset-normalizer~=2.0.0 in /usr/local/lib/python3.10/dist-packages (from requests->requests_html) (2.0.12)\n",
            "Requirement already satisfied: idna<4,>=2.5 in /usr/local/lib/python3.10/dist-packages (from requests->requests_html) (3.4)\n",
            "Requirement already satisfied: soupsieve>1.2 in /usr/local/lib/python3.10/dist-packages (from beautifulsoup4->bs4->requests_html) (2.4.1)\n",
            "Building wheels for collected packages: bs4\n",
            "  Building wheel for bs4 (setup.py) ... \u001b[?25l\u001b[?25hdone\n",
            "  Created wheel for bs4: filename=bs4-0.0.1-py3-none-any.whl size=1257 sha256=401bb22c81c03fef98d13a84e5d000c1adcf135d433f3a5448878a1f924135b7\n",
            "  Stored in directory: /root/.cache/pip/wheels/25/42/45/b773edc52acb16cd2db4cf1a0b47117e2f69bb4eb300ed0e70\n",
            "Successfully built bs4\n",
            "Installing collected packages: pyee, parse, fake-useragent, websockets, w3lib, cssselect, pyquery, pyppeteer, bs4, requests_html\n",
            "Successfully installed bs4-0.0.1 cssselect-1.2.0 fake-useragent-1.1.3 parse-1.19.1 pyee-8.2.2 pyppeteer-1.0.2 pyquery-2.0.0 requests_html-0.10.0 w3lib-2.1.1 websockets-10.4\n"
          ]
        }
      ]
    },
    {
      "cell_type": "code",
      "source": [
        "import nest_asyncio\n",
        "\n",
        "nest_asyncio.apply()\n",
        "\n",
        "\n",
        "session = requests_html.HTMLSession()\n",
        "r = session.get(URL)\n",
        "\n",
        "html_str = r.text\n",
        "\n",
        "\n",
        "soup = BeautifulSoup(html_str, 'html5lib')\n",
        "table=soup.find('table')\n",
        "\n",
        "netflix_data = pd.DataFrame(columns=[\"Date\", \"Open\", \"High\", \"Low\", \"Close\", \"Volume\"])\n",
        "\n",
        "for row in soup.find(\"tbody\").find_all('tr'):\n",
        "    print(row)\n",
        "    col = row.find_all(\"td\")\n",
        "    if(col!=0):\n",
        "        date = col[0].text\n",
        "        Open = col[1].text\n",
        "        high = col[2].text\n",
        "        low = col[3].text\n",
        "        close = col[4].text\n",
        "        adj_close = col[5].text\n",
        "        volume = col[6].text\n",
        "\n",
        "\n",
        "    netflix_data = netflix_data.append({\"Date\":date, \"Open\":Open, \"High\":high, \"Low\":low, \"Close\":close, \"Adj Close\":adj_close, \"Volume\":volume}, ignore_index=True)"
      ],
      "metadata": {
        "colab": {
          "base_uri": "https://localhost:8080/"
        },
        "id": "Hv7s4CASlFPZ",
        "outputId": "0da76ca3-30b1-48ba-bf78-5b2df2f12076"
      },
      "execution_count": 22,
      "outputs": [
        {
          "output_type": "stream",
          "name": "stdout",
          "text": [
            "<tr class=\"BdT Bdc($seperatorColor) Ta(end) Fz(s) Whs(nw)\"><td class=\"Py(10px) Ta(start) Pend(10px)\"><span>Jun 01, 2021</span></td><td class=\"Py(10px) Pstart(10px)\"><span>504.01</span></td><td class=\"Py(10px) Pstart(10px)\"><span>536.13</span></td><td class=\"Py(10px) Pstart(10px)\"><span>482.14</span></td><td class=\"Py(10px) Pstart(10px)\"><span>528.21</span></td><td class=\"Py(10px) Pstart(10px)\"><span>528.21</span></td><td class=\"Py(10px) Pstart(10px)\"><span>78,560,600</span></td></tr>\n",
            "<tr class=\"BdT Bdc($seperatorColor) Ta(end) Fz(s) Whs(nw)\"><td class=\"Py(10px) Ta(start) Pend(10px)\"><span>May 01, 2021</span></td><td class=\"Py(10px) Pstart(10px)\"><span>512.65</span></td><td class=\"Py(10px) Pstart(10px)\"><span>518.95</span></td><td class=\"Py(10px) Pstart(10px)\"><span>478.54</span></td><td class=\"Py(10px) Pstart(10px)\"><span>502.81</span></td><td class=\"Py(10px) Pstart(10px)\"><span>502.81</span></td><td class=\"Py(10px) Pstart(10px)\"><span>66,927,600</span></td></tr>\n",
            "<tr class=\"BdT Bdc($seperatorColor) Ta(end) Fz(s) Whs(nw)\"><td class=\"Py(10px) Ta(start) Pend(10px)\"><span>Apr 01, 2021</span></td><td class=\"Py(10px) Pstart(10px)\"><span>529.93</span></td><td class=\"Py(10px) Pstart(10px)\"><span>563.56</span></td><td class=\"Py(10px) Pstart(10px)\"><span>499.00</span></td><td class=\"Py(10px) Pstart(10px)\"><span>513.47</span></td><td class=\"Py(10px) Pstart(10px)\"><span>513.47</span></td><td class=\"Py(10px) Pstart(10px)\"><span>111,573,300</span></td></tr>\n",
            "<tr class=\"BdT Bdc($seperatorColor) Ta(end) Fz(s) Whs(nw)\"><td class=\"Py(10px) Ta(start) Pend(10px)\"><span>Mar 01, 2021</span></td><td class=\"Py(10px) Pstart(10px)\"><span>545.57</span></td><td class=\"Py(10px) Pstart(10px)\"><span>556.99</span></td><td class=\"Py(10px) Pstart(10px)\"><span>492.85</span></td><td class=\"Py(10px) Pstart(10px)\"><span>521.66</span></td><td class=\"Py(10px) Pstart(10px)\"><span>521.66</span></td><td class=\"Py(10px) Pstart(10px)\"><span>90,183,900</span></td></tr>\n",
            "<tr class=\"BdT Bdc($seperatorColor) Ta(end) Fz(s) Whs(nw)\"><td class=\"Py(10px) Ta(start) Pend(10px)\"><span>Feb 01, 2021</span></td><td class=\"Py(10px) Pstart(10px)\"><span>536.79</span></td><td class=\"Py(10px) Pstart(10px)\"><span>566.65</span></td><td class=\"Py(10px) Pstart(10px)\"><span>518.28</span></td><td class=\"Py(10px) Pstart(10px)\"><span>538.85</span></td><td class=\"Py(10px) Pstart(10px)\"><span>538.85</span></td><td class=\"Py(10px) Pstart(10px)\"><span>61,902,300</span></td></tr>\n",
            "<tr class=\"BdT Bdc($seperatorColor) Ta(end) Fz(s) Whs(nw)\"><td class=\"Py(10px) Ta(start) Pend(10px)\"><span>Jan 01, 2021</span></td><td class=\"Py(10px) Pstart(10px)\"><span>539.00</span></td><td class=\"Py(10px) Pstart(10px)\"><span>593.29</span></td><td class=\"Py(10px) Pstart(10px)\"><span>485.67</span></td><td class=\"Py(10px) Pstart(10px)\"><span>532.39</span></td><td class=\"Py(10px) Pstart(10px)\"><span>532.39</span></td><td class=\"Py(10px) Pstart(10px)\"><span>139,988,600</span></td></tr>\n",
            "<tr class=\"BdT Bdc($seperatorColor) Ta(end) Fz(s) Whs(nw)\"><td class=\"Py(10px) Ta(start) Pend(10px)\"><span>Dec 01, 2020</span></td><td class=\"Py(10px) Pstart(10px)\"><span>492.34</span></td><td class=\"Py(10px) Pstart(10px)\"><span>545.50</span></td><td class=\"Py(10px) Pstart(10px)\"><span>491.29</span></td><td class=\"Py(10px) Pstart(10px)\"><span>540.73</span></td><td class=\"Py(10px) Pstart(10px)\"><span>540.73</span></td><td class=\"Py(10px) Pstart(10px)\"><span>77,564,100</span></td></tr>\n",
            "<tr class=\"BdT Bdc($seperatorColor) Ta(end) Fz(s) Whs(nw)\"><td class=\"Py(10px) Ta(start) Pend(10px)\"><span>Nov 01, 2020</span></td><td class=\"Py(10px) Pstart(10px)\"><span>478.87</span></td><td class=\"Py(10px) Pstart(10px)\"><span>518.73</span></td><td class=\"Py(10px) Pstart(10px)\"><span>463.41</span></td><td class=\"Py(10px) Pstart(10px)\"><span>490.70</span></td><td class=\"Py(10px) Pstart(10px)\"><span>490.70</span></td><td class=\"Py(10px) Pstart(10px)\"><span>91,788,900</span></td></tr>\n",
            "<tr class=\"BdT Bdc($seperatorColor) Ta(end) Fz(s) Whs(nw)\"><td class=\"Py(10px) Ta(start) Pend(10px)\"><span>Oct 01, 2020</span></td><td class=\"Py(10px) Pstart(10px)\"><span>506.03</span></td><td class=\"Py(10px) Pstart(10px)\"><span>572.49</span></td><td class=\"Py(10px) Pstart(10px)\"><span>472.21</span></td><td class=\"Py(10px) Pstart(10px)\"><span>475.74</span></td><td class=\"Py(10px) Pstart(10px)\"><span>475.74</span></td><td class=\"Py(10px) Pstart(10px)\"><span>154,302,400</span></td></tr>\n",
            "<tr class=\"BdT Bdc($seperatorColor) Ta(end) Fz(s) Whs(nw)\"><td class=\"Py(10px) Ta(start) Pend(10px)\"><span>Sep 01, 2020</span></td><td class=\"Py(10px) Pstart(10px)\"><span>532.60</span></td><td class=\"Py(10px) Pstart(10px)\"><span>557.39</span></td><td class=\"Py(10px) Pstart(10px)\"><span>458.60</span></td><td class=\"Py(10px) Pstart(10px)\"><span>500.03</span></td><td class=\"Py(10px) Pstart(10px)\"><span>500.03</span></td><td class=\"Py(10px) Pstart(10px)\"><span>118,796,900</span></td></tr>\n",
            "<tr class=\"BdT Bdc($seperatorColor) Ta(end) Fz(s) Whs(nw)\"><td class=\"Py(10px) Ta(start) Pend(10px)\"><span>Aug 01, 2020</span></td><td class=\"Py(10px) Pstart(10px)\"><span>490.86</span></td><td class=\"Py(10px) Pstart(10px)\"><span>549.04</span></td><td class=\"Py(10px) Pstart(10px)\"><span>466.55</span></td><td class=\"Py(10px) Pstart(10px)\"><span>529.56</span></td><td class=\"Py(10px) Pstart(10px)\"><span>529.56</span></td><td class=\"Py(10px) Pstart(10px)\"><span>116,261,900</span></td></tr>\n",
            "<tr class=\"BdT Bdc($seperatorColor) Ta(end) Fz(s) Whs(nw)\"><td class=\"Py(10px) Ta(start) Pend(10px)\"><span>Jul 01, 2020</span></td><td class=\"Py(10px) Pstart(10px)\"><span>454.00</span></td><td class=\"Py(10px) Pstart(10px)\"><span>575.37</span></td><td class=\"Py(10px) Pstart(10px)\"><span>454.00</span></td><td class=\"Py(10px) Pstart(10px)\"><span>488.88</span></td><td class=\"Py(10px) Pstart(10px)\"><span>488.88</span></td><td class=\"Py(10px) Pstart(10px)\"><span>232,206,300</span></td></tr>\n",
            "<tr class=\"BdT Bdc($seperatorColor) Ta(end) Fz(s) Whs(nw)\"><td class=\"Py(10px) Ta(start) Pend(10px)\"><span>Jun 01, 2020</span></td><td class=\"Py(10px) Pstart(10px)\"><span>418.83</span></td><td class=\"Py(10px) Pstart(10px)\"><span>474.01</span></td><td class=\"Py(10px) Pstart(10px)\"><span>404.25</span></td><td class=\"Py(10px) Pstart(10px)\"><span>455.04</span></td><td class=\"Py(10px) Pstart(10px)\"><span>455.04</span></td><td class=\"Py(10px) Pstart(10px)\"><span>117,279,900</span></td></tr>\n",
            "<tr class=\"BdT Bdc($seperatorColor) Ta(end) Fz(s) Whs(nw)\"><td class=\"Py(10px) Ta(start) Pend(10px)\"><span>May 01, 2020</span></td><td class=\"Py(10px) Pstart(10px)\"><span>415.10</span></td><td class=\"Py(10px) Pstart(10px)\"><span>458.97</span></td><td class=\"Py(10px) Pstart(10px)\"><span>397.86</span></td><td class=\"Py(10px) Pstart(10px)\"><span>419.73</span></td><td class=\"Py(10px) Pstart(10px)\"><span>419.73</span></td><td class=\"Py(10px) Pstart(10px)\"><span>135,055,800</span></td></tr>\n",
            "<tr class=\"BdT Bdc($seperatorColor) Ta(end) Fz(s) Whs(nw)\"><td class=\"Py(10px) Ta(start) Pend(10px)\"><span>Apr 01, 2020</span></td><td class=\"Py(10px) Pstart(10px)\"><span>376.05</span></td><td class=\"Py(10px) Pstart(10px)\"><span>449.52</span></td><td class=\"Py(10px) Pstart(10px)\"><span>357.51</span></td><td class=\"Py(10px) Pstart(10px)\"><span>419.85</span></td><td class=\"Py(10px) Pstart(10px)\"><span>419.85</span></td><td class=\"Py(10px) Pstart(10px)\"><span>225,111,600</span></td></tr>\n",
            "<tr class=\"BdT Bdc($seperatorColor) Ta(end) Fz(s) Whs(nw)\"><td class=\"Py(10px) Ta(start) Pend(10px)\"><span>Mar 01, 2020</span></td><td class=\"Py(10px) Pstart(10px)\"><span>373.11</span></td><td class=\"Py(10px) Pstart(10px)\"><span>393.52</span></td><td class=\"Py(10px) Pstart(10px)\"><span>290.25</span></td><td class=\"Py(10px) Pstart(10px)\"><span>375.50</span></td><td class=\"Py(10px) Pstart(10px)\"><span>375.50</span></td><td class=\"Py(10px) Pstart(10px)\"><span>201,979,100</span></td></tr>\n",
            "<tr class=\"BdT Bdc($seperatorColor) Ta(end) Fz(s) Whs(nw)\"><td class=\"Py(10px) Ta(start) Pend(10px)\"><span>Feb 01, 2020</span></td><td class=\"Py(10px) Pstart(10px)\"><span>347.24</span></td><td class=\"Py(10px) Pstart(10px)\"><span>392.95</span></td><td class=\"Py(10px) Pstart(10px)\"><span>346.28</span></td><td class=\"Py(10px) Pstart(10px)\"><span>369.03</span></td><td class=\"Py(10px) Pstart(10px)\"><span>369.03</span></td><td class=\"Py(10px) Pstart(10px)\"><span>114,056,000</span></td></tr>\n",
            "<tr class=\"BdT Bdc($seperatorColor) Ta(end) Fz(s) Whs(nw)\"><td class=\"Py(10px) Ta(start) Pend(10px)\"><span>Jan 01, 2020</span></td><td class=\"Py(10px) Pstart(10px)\"><span>326.10</span></td><td class=\"Py(10px) Pstart(10px)\"><span>359.85</span></td><td class=\"Py(10px) Pstart(10px)\"><span>321.20</span></td><td class=\"Py(10px) Pstart(10px)\"><span>345.09</span></td><td class=\"Py(10px) Pstart(10px)\"><span>345.09</span></td><td class=\"Py(10px) Pstart(10px)\"><span>169,874,000</span></td></tr>\n",
            "<tr class=\"BdT Bdc($seperatorColor) Ta(end) Fz(s) Whs(nw)\"><td class=\"Py(10px) Ta(start) Pend(10px)\"><span>Dec 01, 2019</span></td><td class=\"Py(10px) Pstart(10px)\"><span>314.39</span></td><td class=\"Py(10px) Pstart(10px)\"><span>338.00</span></td><td class=\"Py(10px) Pstart(10px)\"><span>292.02</span></td><td class=\"Py(10px) Pstart(10px)\"><span>323.57</span></td><td class=\"Py(10px) Pstart(10px)\"><span>323.57</span></td><td class=\"Py(10px) Pstart(10px)\"><span>124,723,600</span></td></tr>\n",
            "<tr class=\"BdT Bdc($seperatorColor) Ta(end) Fz(s) Whs(nw)\"><td class=\"Py(10px) Ta(start) Pend(10px)\"><span>Nov 01, 2019</span></td><td class=\"Py(10px) Pstart(10px)\"><span>288.70</span></td><td class=\"Py(10px) Pstart(10px)\"><span>316.82</span></td><td class=\"Py(10px) Pstart(10px)\"><span>281.14</span></td><td class=\"Py(10px) Pstart(10px)\"><span>314.66</span></td><td class=\"Py(10px) Pstart(10px)\"><span>314.66</span></td><td class=\"Py(10px) Pstart(10px)\"><span>113,645,900</span></td></tr>\n",
            "<tr class=\"BdT Bdc($seperatorColor) Ta(end) Fz(s) Whs(nw)\"><td class=\"Py(10px) Ta(start) Pend(10px)\"><span>Oct 01, 2019</span></td><td class=\"Py(10px) Pstart(10px)\"><span>267.35</span></td><td class=\"Py(10px) Pstart(10px)\"><span>308.75</span></td><td class=\"Py(10px) Pstart(10px)\"><span>257.01</span></td><td class=\"Py(10px) Pstart(10px)\"><span>287.41</span></td><td class=\"Py(10px) Pstart(10px)\"><span>287.41</span></td><td class=\"Py(10px) Pstart(10px)\"><span>231,556,400</span></td></tr>\n",
            "<tr class=\"BdT Bdc($seperatorColor) Ta(end) Fz(s) Whs(nw)\"><td class=\"Py(10px) Ta(start) Pend(10px)\"><span>Sep 01, 2019</span></td><td class=\"Py(10px) Pstart(10px)\"><span>290.82</span></td><td class=\"Py(10px) Pstart(10px)\"><span>301.55</span></td><td class=\"Py(10px) Pstart(10px)\"><span>252.28</span></td><td class=\"Py(10px) Pstart(10px)\"><span>267.62</span></td><td class=\"Py(10px) Pstart(10px)\"><span>267.62</span></td><td class=\"Py(10px) Pstart(10px)\"><span>175,411,300</span></td></tr>\n",
            "<tr class=\"BdT Bdc($seperatorColor) Ta(end) Fz(s) Whs(nw)\"><td class=\"Py(10px) Ta(start) Pend(10px)\"><span>Aug 01, 2019</span></td><td class=\"Py(10px) Pstart(10px)\"><span>324.25</span></td><td class=\"Py(10px) Pstart(10px)\"><span>328.58</span></td><td class=\"Py(10px) Pstart(10px)\"><span>287.20</span></td><td class=\"Py(10px) Pstart(10px)\"><span>293.75</span></td><td class=\"Py(10px) Pstart(10px)\"><span>293.75</span></td><td class=\"Py(10px) Pstart(10px)\"><span>137,076,700</span></td></tr>\n",
            "<tr class=\"BdT Bdc($seperatorColor) Ta(end) Fz(s) Whs(nw)\"><td class=\"Py(10px) Ta(start) Pend(10px)\"><span>Jul 01, 2019</span></td><td class=\"Py(10px) Pstart(10px)\"><span>373.50</span></td><td class=\"Py(10px) Pstart(10px)\"><span>384.76</span></td><td class=\"Py(10px) Pstart(10px)\"><span>305.81</span></td><td class=\"Py(10px) Pstart(10px)\"><span>322.99</span></td><td class=\"Py(10px) Pstart(10px)\"><span>322.99</span></td><td class=\"Py(10px) Pstart(10px)\"><span>196,652,500</span></td></tr>\n",
            "<tr class=\"BdT Bdc($seperatorColor) Ta(end) Fz(s) Whs(nw)\"><td class=\"Py(10px) Ta(start) Pend(10px)\"><span>Jun 01, 2019</span></td><td class=\"Py(10px) Pstart(10px)\"><span>343.56</span></td><td class=\"Py(10px) Pstart(10px)\"><span>375.00</span></td><td class=\"Py(10px) Pstart(10px)\"><span>332.65</span></td><td class=\"Py(10px) Pstart(10px)\"><span>367.32</span></td><td class=\"Py(10px) Pstart(10px)\"><span>367.32</span></td><td class=\"Py(10px) Pstart(10px)\"><span>111,052,000</span></td></tr>\n",
            "<tr class=\"BdT Bdc($seperatorColor) Ta(end) Fz(s) Whs(nw)\"><td class=\"Py(10px) Ta(start) Pend(10px)\"><span>May 01, 2019</span></td><td class=\"Py(10px) Pstart(10px)\"><span>374.00</span></td><td class=\"Py(10px) Pstart(10px)\"><span>385.99</span></td><td class=\"Py(10px) Pstart(10px)\"><span>341.39</span></td><td class=\"Py(10px) Pstart(10px)\"><span>343.28</span></td><td class=\"Py(10px) Pstart(10px)\"><span>343.28</span></td><td class=\"Py(10px) Pstart(10px)\"><span>125,298,300</span></td></tr>\n",
            "<tr class=\"BdT Bdc($seperatorColor) Ta(end) Fz(s) Whs(nw)\"><td class=\"Py(10px) Ta(start) Pend(10px)\"><span>Apr 01, 2019</span></td><td class=\"Py(10px) Pstart(10px)\"><span>359.00</span></td><td class=\"Py(10px) Pstart(10px)\"><span>384.80</span></td><td class=\"Py(10px) Pstart(10px)\"><span>342.27</span></td><td class=\"Py(10px) Pstart(10px)\"><span>370.54</span></td><td class=\"Py(10px) Pstart(10px)\"><span>370.54</span></td><td class=\"Py(10px) Pstart(10px)\"><span>165,079,400</span></td></tr>\n",
            "<tr class=\"BdT Bdc($seperatorColor) Ta(end) Fz(s) Whs(nw)\"><td class=\"Py(10px) Ta(start) Pend(10px)\"><span>Mar 01, 2019</span></td><td class=\"Py(10px) Pstart(10px)\"><span>362.26</span></td><td class=\"Py(10px) Pstart(10px)\"><span>379.00</span></td><td class=\"Py(10px) Pstart(10px)\"><span>342.47</span></td><td class=\"Py(10px) Pstart(10px)\"><span>356.56</span></td><td class=\"Py(10px) Pstart(10px)\"><span>356.56</span></td><td class=\"Py(10px) Pstart(10px)\"><span>144,843,100</span></td></tr>\n",
            "<tr class=\"BdT Bdc($seperatorColor) Ta(end) Fz(s) Whs(nw)\"><td class=\"Py(10px) Ta(start) Pend(10px)\"><span>Feb 01, 2019</span></td><td class=\"Py(10px) Pstart(10px)\"><span>337.18</span></td><td class=\"Py(10px) Pstart(10px)\"><span>371.49</span></td><td class=\"Py(10px) Pstart(10px)\"><span>336.50</span></td><td class=\"Py(10px) Pstart(10px)\"><span>358.10</span></td><td class=\"Py(10px) Pstart(10px)\"><span>358.10</span></td><td class=\"Py(10px) Pstart(10px)\"><span>148,192,100</span></td></tr>\n",
            "<tr class=\"BdT Bdc($seperatorColor) Ta(end) Fz(s) Whs(nw)\"><td class=\"Py(10px) Ta(start) Pend(10px)\"><span>Jan 01, 2019</span></td><td class=\"Py(10px) Pstart(10px)\"><span>259.28</span></td><td class=\"Py(10px) Pstart(10px)\"><span>358.85</span></td><td class=\"Py(10px) Pstart(10px)\"><span>256.58</span></td><td class=\"Py(10px) Pstart(10px)\"><span>339.50</span></td><td class=\"Py(10px) Pstart(10px)\"><span>339.50</span></td><td class=\"Py(10px) Pstart(10px)\"><span>306,616,400</span></td></tr>\n",
            "<tr class=\"BdT Bdc($seperatorColor) Ta(end) Fz(s) Whs(nw)\"><td class=\"Py(10px) Ta(start) Pend(10px)\"><span>Dec 01, 2018</span></td><td class=\"Py(10px) Pstart(10px)\"><span>293.19</span></td><td class=\"Py(10px) Pstart(10px)\"><span>298.72</span></td><td class=\"Py(10px) Pstart(10px)\"><span>231.23</span></td><td class=\"Py(10px) Pstart(10px)\"><span>267.66</span></td><td class=\"Py(10px) Pstart(10px)\"><span>267.66</span></td><td class=\"Py(10px) Pstart(10px)\"><span>234,310,000</span></td></tr>\n",
            "<tr class=\"BdT Bdc($seperatorColor) Ta(end) Fz(s) Whs(nw)\"><td class=\"Py(10px) Ta(start) Pend(10px)\"><span>Nov 01, 2018</span></td><td class=\"Py(10px) Pstart(10px)\"><span>304.59</span></td><td class=\"Py(10px) Pstart(10px)\"><span>332.05</span></td><td class=\"Py(10px) Pstart(10px)\"><span>250.00</span></td><td class=\"Py(10px) Pstart(10px)\"><span>286.13</span></td><td class=\"Py(10px) Pstart(10px)\"><span>286.13</span></td><td class=\"Py(10px) Pstart(10px)\"><span>257,126,400</span></td></tr>\n",
            "<tr class=\"BdT Bdc($seperatorColor) Ta(end) Fz(s) Whs(nw)\"><td class=\"Py(10px) Ta(start) Pend(10px)\"><span>Oct 01, 2018</span></td><td class=\"Py(10px) Pstart(10px)\"><span>375.85</span></td><td class=\"Py(10px) Pstart(10px)\"><span>386.80</span></td><td class=\"Py(10px) Pstart(10px)\"><span>271.21</span></td><td class=\"Py(10px) Pstart(10px)\"><span>301.78</span></td><td class=\"Py(10px) Pstart(10px)\"><span>301.78</span></td><td class=\"Py(10px) Pstart(10px)\"><span>363,589,800</span></td></tr>\n",
            "<tr class=\"BdT Bdc($seperatorColor) Ta(end) Fz(s) Whs(nw)\"><td class=\"Py(10px) Ta(start) Pend(10px)\"><span>Sep 01, 2018</span></td><td class=\"Py(10px) Pstart(10px)\"><span>366.47</span></td><td class=\"Py(10px) Pstart(10px)\"><span>383.20</span></td><td class=\"Py(10px) Pstart(10px)\"><span>335.83</span></td><td class=\"Py(10px) Pstart(10px)\"><span>374.13</span></td><td class=\"Py(10px) Pstart(10px)\"><span>374.13</span></td><td class=\"Py(10px) Pstart(10px)\"><span>170,832,100</span></td></tr>\n",
            "<tr class=\"BdT Bdc($seperatorColor) Ta(end) Fz(s) Whs(nw)\"><td class=\"Py(10px) Ta(start) Pend(10px)\"><span>Aug 01, 2018</span></td><td class=\"Py(10px) Pstart(10px)\"><span>335.87</span></td><td class=\"Py(10px) Pstart(10px)\"><span>376.81</span></td><td class=\"Py(10px) Pstart(10px)\"><span>310.93</span></td><td class=\"Py(10px) Pstart(10px)\"><span>367.68</span></td><td class=\"Py(10px) Pstart(10px)\"><span>367.68</span></td><td class=\"Py(10px) Pstart(10px)\"><span>213,122,300</span></td></tr>\n",
            "<tr class=\"BdT Bdc($seperatorColor) Ta(end) Fz(s) Whs(nw)\"><td class=\"Py(10px) Ta(start) Pend(10px)\"><span>Jul 01, 2018</span></td><td class=\"Py(10px) Pstart(10px)\"><span>385.45</span></td><td class=\"Py(10px) Pstart(10px)\"><span>419.77</span></td><td class=\"Py(10px) Pstart(10px)\"><span>328.00</span></td><td class=\"Py(10px) Pstart(10px)\"><span>337.45</span></td><td class=\"Py(10px) Pstart(10px)\"><span>337.45</span></td><td class=\"Py(10px) Pstart(10px)\"><span>305,393,800</span></td></tr>\n",
            "<tr class=\"BdT Bdc($seperatorColor) Ta(end) Fz(s) Whs(nw)\"><td class=\"Py(10px) Ta(start) Pend(10px)\"><span>Jun 01, 2018</span></td><td class=\"Py(10px) Pstart(10px)\"><span>353.88</span></td><td class=\"Py(10px) Pstart(10px)\"><span>423.21</span></td><td class=\"Py(10px) Pstart(10px)\"><span>352.82</span></td><td class=\"Py(10px) Pstart(10px)\"><span>391.43</span></td><td class=\"Py(10px) Pstart(10px)\"><span>391.43</span></td><td class=\"Py(10px) Pstart(10px)\"><span>244,031,800</span></td></tr>\n",
            "<tr class=\"BdT Bdc($seperatorColor) Ta(end) Fz(s) Whs(nw)\"><td class=\"Py(10px) Ta(start) Pend(10px)\"><span>May 01, 2018</span></td><td class=\"Py(10px) Pstart(10px)\"><span>310.36</span></td><td class=\"Py(10px) Pstart(10px)\"><span>356.10</span></td><td class=\"Py(10px) Pstart(10px)\"><span>305.73</span></td><td class=\"Py(10px) Pstart(10px)\"><span>351.60</span></td><td class=\"Py(10px) Pstart(10px)\"><span>351.60</span></td><td class=\"Py(10px) Pstart(10px)\"><span>142,050,800</span></td></tr>\n",
            "<tr class=\"BdT Bdc($seperatorColor) Ta(end) Fz(s) Whs(nw)\"><td class=\"Py(10px) Ta(start) Pend(10px)\"><span>Apr 01, 2018</span></td><td class=\"Py(10px) Pstart(10px)\"><span>291.94</span></td><td class=\"Py(10px) Pstart(10px)\"><span>338.82</span></td><td class=\"Py(10px) Pstart(10px)\"><span>271.22</span></td><td class=\"Py(10px) Pstart(10px)\"><span>312.46</span></td><td class=\"Py(10px) Pstart(10px)\"><span>312.46</span></td><td class=\"Py(10px) Pstart(10px)\"><span>262,006,000</span></td></tr>\n",
            "<tr class=\"BdT Bdc($seperatorColor) Ta(end) Fz(s) Whs(nw)\"><td class=\"Py(10px) Ta(start) Pend(10px)\"><span>Mar 01, 2018</span></td><td class=\"Py(10px) Pstart(10px)\"><span>292.75</span></td><td class=\"Py(10px) Pstart(10px)\"><span>333.98</span></td><td class=\"Py(10px) Pstart(10px)\"><span>275.90</span></td><td class=\"Py(10px) Pstart(10px)\"><span>295.35</span></td><td class=\"Py(10px) Pstart(10px)\"><span>295.35</span></td><td class=\"Py(10px) Pstart(10px)\"><span>263,449,400</span></td></tr>\n",
            "<tr class=\"BdT Bdc($seperatorColor) Ta(end) Fz(s) Whs(nw)\"><td class=\"Py(10px) Ta(start) Pend(10px)\"><span>Feb 01, 2018</span></td><td class=\"Py(10px) Pstart(10px)\"><span>266.41</span></td><td class=\"Py(10px) Pstart(10px)\"><span>297.36</span></td><td class=\"Py(10px) Pstart(10px)\"><span>236.11</span></td><td class=\"Py(10px) Pstart(10px)\"><span>291.38</span></td><td class=\"Py(10px) Pstart(10px)\"><span>291.38</span></td><td class=\"Py(10px) Pstart(10px)\"><span>184,585,800</span></td></tr>\n",
            "<tr class=\"BdT Bdc($seperatorColor) Ta(end) Fz(s) Whs(nw)\"><td class=\"Py(10px) Ta(start) Pend(10px)\"><span>Jan 01, 2018</span></td><td class=\"Py(10px) Pstart(10px)\"><span>196.10</span></td><td class=\"Py(10px) Pstart(10px)\"><span>286.81</span></td><td class=\"Py(10px) Pstart(10px)\"><span>195.42</span></td><td class=\"Py(10px) Pstart(10px)\"><span>270.30</span></td><td class=\"Py(10px) Pstart(10px)\"><span>270.30</span></td><td class=\"Py(10px) Pstart(10px)\"><span>238,377,600</span></td></tr>\n",
            "<tr class=\"BdT Bdc($seperatorColor) Ta(end) Fz(s) Whs(nw)\"><td class=\"Py(10px) Ta(start) Pend(10px)\"><span>Dec 01, 2017</span></td><td class=\"Py(10px) Pstart(10px)\"><span>186.99</span></td><td class=\"Py(10px) Pstart(10px)\"><span>194.49</span></td><td class=\"Py(10px) Pstart(10px)\"><span>178.38</span></td><td class=\"Py(10px) Pstart(10px)\"><span>191.96</span></td><td class=\"Py(10px) Pstart(10px)\"><span>191.96</span></td><td class=\"Py(10px) Pstart(10px)\"><span>115,103,700</span></td></tr>\n",
            "<tr class=\"BdT Bdc($seperatorColor) Ta(end) Fz(s) Whs(nw)\"><td class=\"Py(10px) Ta(start) Pend(10px)\"><span>Nov 01, 2017</span></td><td class=\"Py(10px) Pstart(10px)\"><span>197.24</span></td><td class=\"Py(10px) Pstart(10px)\"><span>202.48</span></td><td class=\"Py(10px) Pstart(10px)\"><span>184.32</span></td><td class=\"Py(10px) Pstart(10px)\"><span>187.58</span></td><td class=\"Py(10px) Pstart(10px)\"><span>187.58</span></td><td class=\"Py(10px) Pstart(10px)\"><span>110,996,600</span></td></tr>\n",
            "<tr class=\"BdT Bdc($seperatorColor) Ta(end) Fz(s) Whs(nw)\"><td class=\"Py(10px) Ta(start) Pend(10px)\"><span>Oct 01, 2017</span></td><td class=\"Py(10px) Pstart(10px)\"><span>182.11</span></td><td class=\"Py(10px) Pstart(10px)\"><span>204.38</span></td><td class=\"Py(10px) Pstart(10px)\"><span>176.58</span></td><td class=\"Py(10px) Pstart(10px)\"><span>196.43</span></td><td class=\"Py(10px) Pstart(10px)\"><span>196.43</span></td><td class=\"Py(10px) Pstart(10px)\"><span>208,657,800</span></td></tr>\n",
            "<tr class=\"BdT Bdc($seperatorColor) Ta(end) Fz(s) Whs(nw)\"><td class=\"Py(10px) Ta(start) Pend(10px)\"><span>Sep 01, 2017</span></td><td class=\"Py(10px) Pstart(10px)\"><span>175.55</span></td><td class=\"Py(10px) Pstart(10px)\"><span>189.95</span></td><td class=\"Py(10px) Pstart(10px)\"><span>172.44</span></td><td class=\"Py(10px) Pstart(10px)\"><span>181.35</span></td><td class=\"Py(10px) Pstart(10px)\"><span>181.35</span></td><td class=\"Py(10px) Pstart(10px)\"><span>111,427,900</span></td></tr>\n",
            "<tr class=\"BdT Bdc($seperatorColor) Ta(end) Fz(s) Whs(nw)\"><td class=\"Py(10px) Ta(start) Pend(10px)\"><span>Aug 01, 2017</span></td><td class=\"Py(10px) Pstart(10px)\"><span>182.49</span></td><td class=\"Py(10px) Pstart(10px)\"><span>184.62</span></td><td class=\"Py(10px) Pstart(10px)\"><span>164.23</span></td><td class=\"Py(10px) Pstart(10px)\"><span>174.71</span></td><td class=\"Py(10px) Pstart(10px)\"><span>174.71</span></td><td class=\"Py(10px) Pstart(10px)\"><span>136,534,400</span></td></tr>\n",
            "<tr class=\"BdT Bdc($seperatorColor) Ta(end) Fz(s) Whs(nw)\"><td class=\"Py(10px) Ta(start) Pend(10px)\"><span>Jul 01, 2017</span></td><td class=\"Py(10px) Pstart(10px)\"><span>149.80</span></td><td class=\"Py(10px) Pstart(10px)\"><span>191.50</span></td><td class=\"Py(10px) Pstart(10px)\"><span>144.25</span></td><td class=\"Py(10px) Pstart(10px)\"><span>181.66</span></td><td class=\"Py(10px) Pstart(10px)\"><span>181.66</span></td><td class=\"Py(10px) Pstart(10px)\"><span>185,144,700</span></td></tr>\n",
            "<tr class=\"BdT Bdc($seperatorColor) Ta(end) Fz(s) Whs(nw)\"><td class=\"Py(10px) Ta(start) Pend(10px)\"><span>Jun 01, 2017</span></td><td class=\"Py(10px) Pstart(10px)\"><span>163.52</span></td><td class=\"Py(10px) Pstart(10px)\"><span>166.87</span></td><td class=\"Py(10px) Pstart(10px)\"><span>147.30</span></td><td class=\"Py(10px) Pstart(10px)\"><span>149.41</span></td><td class=\"Py(10px) Pstart(10px)\"><span>149.41</span></td><td class=\"Py(10px) Pstart(10px)\"><span>135,699,700</span></td></tr>\n",
            "<tr class=\"BdT Bdc($seperatorColor) Ta(end) Fz(s) Whs(nw)\"><td class=\"Py(10px) Ta(start) Pend(10px)\"><span>May 01, 2017</span></td><td class=\"Py(10px) Pstart(10px)\"><span>151.91</span></td><td class=\"Py(10px) Pstart(10px)\"><span>164.75</span></td><td class=\"Py(10px) Pstart(10px)\"><span>151.61</span></td><td class=\"Py(10px) Pstart(10px)\"><span>163.07</span></td><td class=\"Py(10px) Pstart(10px)\"><span>163.07</span></td><td class=\"Py(10px) Pstart(10px)\"><span>116,795,800</span></td></tr>\n",
            "<tr class=\"BdT Bdc($seperatorColor) Ta(end) Fz(s) Whs(nw)\"><td class=\"Py(10px) Ta(start) Pend(10px)\"><span>Apr 01, 2017</span></td><td class=\"Py(10px) Pstart(10px)\"><span>146.70</span></td><td class=\"Py(10px) Pstart(10px)\"><span>153.52</span></td><td class=\"Py(10px) Pstart(10px)\"><span>138.66</span></td><td class=\"Py(10px) Pstart(10px)\"><span>152.20</span></td><td class=\"Py(10px) Pstart(10px)\"><span>152.20</span></td><td class=\"Py(10px) Pstart(10px)\"><span>149,779,000</span></td></tr>\n",
            "<tr class=\"BdT Bdc($seperatorColor) Ta(end) Fz(s) Whs(nw)\"><td class=\"Py(10px) Ta(start) Pend(10px)\"><span>Mar 01, 2017</span></td><td class=\"Py(10px) Pstart(10px)\"><span>142.84</span></td><td class=\"Py(10px) Pstart(10px)\"><span>148.29</span></td><td class=\"Py(10px) Pstart(10px)\"><span>138.26</span></td><td class=\"Py(10px) Pstart(10px)\"><span>147.81</span></td><td class=\"Py(10px) Pstart(10px)\"><span>147.81</span></td><td class=\"Py(10px) Pstart(10px)\"><span>110,692,700</span></td></tr>\n",
            "<tr class=\"BdT Bdc($seperatorColor) Ta(end) Fz(s) Whs(nw)\"><td class=\"Py(10px) Ta(start) Pend(10px)\"><span>Feb 01, 2017</span></td><td class=\"Py(10px) Pstart(10px)\"><span>141.20</span></td><td class=\"Py(10px) Pstart(10px)\"><span>145.95</span></td><td class=\"Py(10px) Pstart(10px)\"><span>139.05</span></td><td class=\"Py(10px) Pstart(10px)\"><span>142.13</span></td><td class=\"Py(10px) Pstart(10px)\"><span>142.13</span></td><td class=\"Py(10px) Pstart(10px)\"><span>91,444,800</span></td></tr>\n",
            "<tr class=\"BdT Bdc($seperatorColor) Ta(end) Fz(s) Whs(nw)\"><td class=\"Py(10px) Ta(start) Pend(10px)\"><span>Jan 01, 2017</span></td><td class=\"Py(10px) Pstart(10px)\"><span>124.96</span></td><td class=\"Py(10px) Pstart(10px)\"><span>143.46</span></td><td class=\"Py(10px) Pstart(10px)\"><span>124.31</span></td><td class=\"Py(10px) Pstart(10px)\"><span>140.71</span></td><td class=\"Py(10px) Pstart(10px)\"><span>140.71</span></td><td class=\"Py(10px) Pstart(10px)\"><span>181,814,100</span></td></tr>\n",
            "<tr class=\"BdT Bdc($seperatorColor) Ta(end) Fz(s) Whs(nw)\"><td class=\"Py(10px) Ta(start) Pend(10px)\"><span>Dec 01, 2016</span></td><td class=\"Py(10px) Pstart(10px)\"><span>117.52</span></td><td class=\"Py(10px) Pstart(10px)\"><span>129.07</span></td><td class=\"Py(10px) Pstart(10px)\"><span>113.95</span></td><td class=\"Py(10px) Pstart(10px)\"><span>123.80</span></td><td class=\"Py(10px) Pstart(10px)\"><span>123.80</span></td><td class=\"Py(10px) Pstart(10px)\"><span>128,528,700</span></td></tr>\n",
            "<tr class=\"BdT Bdc($seperatorColor) Ta(end) Fz(s) Whs(nw)\"><td class=\"Py(10px) Ta(start) Pend(10px)\"><span>Nov 01, 2016</span></td><td class=\"Py(10px) Pstart(10px)\"><span>124.98</span></td><td class=\"Py(10px) Pstart(10px)\"><span>125.83</span></td><td class=\"Py(10px) Pstart(10px)\"><span>110.68</span></td><td class=\"Py(10px) Pstart(10px)\"><span>117.00</span></td><td class=\"Py(10px) Pstart(10px)\"><span>117.00</span></td><td class=\"Py(10px) Pstart(10px)\"><span>147,513,000</span></td></tr>\n",
            "<tr class=\"BdT Bdc($seperatorColor) Ta(end) Fz(s) Whs(nw)\"><td class=\"Py(10px) Ta(start) Pend(10px)\"><span>Oct 01, 2016</span></td><td class=\"Py(10px) Pstart(10px)\"><span>98.00</span></td><td class=\"Py(10px) Pstart(10px)\"><span>129.29</span></td><td class=\"Py(10px) Pstart(10px)\"><span>97.63</span></td><td class=\"Py(10px) Pstart(10px)\"><span>124.87</span></td><td class=\"Py(10px) Pstart(10px)\"><span>124.87</span></td><td class=\"Py(10px) Pstart(10px)\"><span>274,097,800</span></td></tr>\n",
            "<tr class=\"BdT Bdc($seperatorColor) Ta(end) Fz(s) Whs(nw)\"><td class=\"Py(10px) Ta(start) Pend(10px)\"><span>Sep 01, 2016</span></td><td class=\"Py(10px) Pstart(10px)\"><span>97.81</span></td><td class=\"Py(10px) Pstart(10px)\"><span>100.35</span></td><td class=\"Py(10px) Pstart(10px)\"><span>93.26</span></td><td class=\"Py(10px) Pstart(10px)\"><span>98.55</span></td><td class=\"Py(10px) Pstart(10px)\"><span>98.55</span></td><td class=\"Py(10px) Pstart(10px)\"><span>169,670,600</span></td></tr>\n",
            "<tr class=\"BdT Bdc($seperatorColor) Ta(end) Fz(s) Whs(nw)\"><td class=\"Py(10px) Ta(start) Pend(10px)\"><span>Aug 01, 2016</span></td><td class=\"Py(10px) Pstart(10px)\"><span>91.23</span></td><td class=\"Py(10px) Pstart(10px)\"><span>98.85</span></td><td class=\"Py(10px) Pstart(10px)\"><span>90.50</span></td><td class=\"Py(10px) Pstart(10px)\"><span>97.45</span></td><td class=\"Py(10px) Pstart(10px)\"><span>97.45</span></td><td class=\"Py(10px) Pstart(10px)\"><span>182,611,000</span></td></tr>\n",
            "<tr class=\"BdT Bdc($seperatorColor) Ta(end) Fz(s) Whs(nw)\"><td class=\"Py(10px) Ta(start) Pend(10px)\"><span>Jul 01, 2016</span></td><td class=\"Py(10px) Pstart(10px)\"><span>95.00</span></td><td class=\"Py(10px) Pstart(10px)\"><span>101.27</span></td><td class=\"Py(10px) Pstart(10px)\"><span>84.50</span></td><td class=\"Py(10px) Pstart(10px)\"><span>91.25</span></td><td class=\"Py(10px) Pstart(10px)\"><span>91.25</span></td><td class=\"Py(10px) Pstart(10px)\"><span>320,138,000</span></td></tr>\n",
            "<tr class=\"BdT Bdc($seperatorColor) Ta(end) Fz(s) Whs(nw)\"><td class=\"Py(10px) Ta(start) Pend(10px)\"><span>Jun 01, 2016</span></td><td class=\"Py(10px) Pstart(10px)\"><span>101.50</span></td><td class=\"Py(10px) Pstart(10px)\"><span>102.15</span></td><td class=\"Py(10px) Pstart(10px)\"><span>84.81</span></td><td class=\"Py(10px) Pstart(10px)\"><span>91.48</span></td><td class=\"Py(10px) Pstart(10px)\"><span>91.48</span></td><td class=\"Py(10px) Pstart(10px)\"><span>218,216,500</span></td></tr>\n",
            "<tr class=\"BdT Bdc($seperatorColor) Ta(end) Fz(s) Whs(nw)\"><td class=\"Py(10px) Ta(start) Pend(10px)\"><span>May 01, 2016</span></td><td class=\"Py(10px) Pstart(10px)\"><span>90.41</span></td><td class=\"Py(10px) Pstart(10px)\"><span>104.00</span></td><td class=\"Py(10px) Pstart(10px)\"><span>85.74</span></td><td class=\"Py(10px) Pstart(10px)\"><span>102.57</span></td><td class=\"Py(10px) Pstart(10px)\"><span>102.57</span></td><td class=\"Py(10px) Pstart(10px)\"><span>264,997,900</span></td></tr>\n",
            "<tr class=\"BdT Bdc($seperatorColor) Ta(end) Fz(s) Whs(nw)\"><td class=\"Py(10px) Ta(start) Pend(10px)\"><span>Apr 01, 2016</span></td><td class=\"Py(10px) Pstart(10px)\"><span>102.93</span></td><td class=\"Py(10px) Pstart(10px)\"><span>111.85</span></td><td class=\"Py(10px) Pstart(10px)\"><span>88.21</span></td><td class=\"Py(10px) Pstart(10px)\"><span>90.03</span></td><td class=\"Py(10px) Pstart(10px)\"><span>90.03</span></td><td class=\"Py(10px) Pstart(10px)\"><span>340,174,300</span></td></tr>\n",
            "<tr class=\"BdT Bdc($seperatorColor) Ta(end) Fz(s) Whs(nw)\"><td class=\"Py(10px) Ta(start) Pend(10px)\"><span>Mar 01, 2016</span></td><td class=\"Py(10px) Pstart(10px)\"><span>94.58</span></td><td class=\"Py(10px) Pstart(10px)\"><span>104.91</span></td><td class=\"Py(10px) Pstart(10px)\"><span>93.61</span></td><td class=\"Py(10px) Pstart(10px)\"><span>102.23</span></td><td class=\"Py(10px) Pstart(10px)\"><span>102.23</span></td><td class=\"Py(10px) Pstart(10px)\"><span>311,333,700</span></td></tr>\n",
            "<tr class=\"BdT Bdc($seperatorColor) Ta(end) Fz(s) Whs(nw)\"><td class=\"Py(10px) Ta(start) Pend(10px)\"><span>Feb 01, 2016</span></td><td class=\"Py(10px) Pstart(10px)\"><span>91.79</span></td><td class=\"Py(10px) Pstart(10px)\"><span>97.48</span></td><td class=\"Py(10px) Pstart(10px)\"><span>79.95</span></td><td class=\"Py(10px) Pstart(10px)\"><span>93.41</span></td><td class=\"Py(10px) Pstart(10px)\"><span>93.41</span></td><td class=\"Py(10px) Pstart(10px)\"><span>389,268,900</span></td></tr>\n",
            "<tr class=\"BdT Bdc($seperatorColor) Ta(end) Fz(s) Whs(nw)\"><td class=\"Py(10px) Ta(start) Pend(10px)\"><span>Jan 01, 2016</span></td><td class=\"Py(10px) Pstart(10px)\"><span>109.00</span></td><td class=\"Py(10px) Pstart(10px)\"><span>122.18</span></td><td class=\"Py(10px) Pstart(10px)\"><span>90.11</span></td><td class=\"Py(10px) Pstart(10px)\"><span>91.84</span></td><td class=\"Py(10px) Pstart(10px)\"><span>91.84</span></td><td class=\"Py(10px) Pstart(10px)\"><span>488,193,200</span></td></tr>\n",
            "<tr class=\"BdT Bdc($seperatorColor) Ta(end) Fz(s) Whs(nw)\"><td class=\"Py(10px) Ta(start) Pend(10px)\"><span>Dec 01, 2015</span></td><td class=\"Py(10px) Pstart(10px)\"><span>124.47</span></td><td class=\"Py(10px) Pstart(10px)\"><span>133.27</span></td><td class=\"Py(10px) Pstart(10px)\"><span>113.85</span></td><td class=\"Py(10px) Pstart(10px)\"><span>114.38</span></td><td class=\"Py(10px) Pstart(10px)\"><span>114.38</span></td><td class=\"Py(10px) Pstart(10px)\"><span>319,939,200</span></td></tr>\n",
            "<tr class=\"BdT Bdc($seperatorColor) Ta(end) Fz(s) Whs(nw)\"><td class=\"Py(10px) Ta(start) Pend(10px)\"><span>Nov 01, 2015</span></td><td class=\"Py(10px) Pstart(10px)\"><span>109.20</span></td><td class=\"Py(10px) Pstart(10px)\"><span>126.60</span></td><td class=\"Py(10px) Pstart(10px)\"><span>101.86</span></td><td class=\"Py(10px) Pstart(10px)\"><span>123.33</span></td><td class=\"Py(10px) Pstart(10px)\"><span>123.33</span></td><td class=\"Py(10px) Pstart(10px)\"><span>320,321,800</span></td></tr>\n",
            "<tr class=\"BdT Bdc($seperatorColor) Ta(end) Fz(s) Whs(nw)\"><td class=\"Py(10px) Ta(start) Pend(10px)\"><span>Oct 01, 2015</span></td><td class=\"Py(10px) Pstart(10px)\"><span>102.91</span></td><td class=\"Py(10px) Pstart(10px)\"><span>115.83</span></td><td class=\"Py(10px) Pstart(10px)\"><span>96.26</span></td><td class=\"Py(10px) Pstart(10px)\"><span>108.38</span></td><td class=\"Py(10px) Pstart(10px)\"><span>108.38</span></td><td class=\"Py(10px) Pstart(10px)\"><span>446,204,400</span></td></tr>\n",
            "<tr class=\"BdT Bdc($seperatorColor) Ta(end) Fz(s) Whs(nw)\"><td class=\"Py(10px) Ta(start) Pend(10px)\"><span>Sep 01, 2015</span></td><td class=\"Py(10px) Pstart(10px)\"><span>109.35</span></td><td class=\"Py(10px) Pstart(10px)\"><span>111.24</span></td><td class=\"Py(10px) Pstart(10px)\"><span>93.55</span></td><td class=\"Py(10px) Pstart(10px)\"><span>103.26</span></td><td class=\"Py(10px) Pstart(10px)\"><span>103.26</span></td><td class=\"Py(10px) Pstart(10px)\"><span>497,401,200</span></td></tr>\n"
          ]
        }
      ]
    },
    {
      "cell_type": "code",
      "source": [
        "netflix_data.head()"
      ],
      "metadata": {
        "colab": {
          "base_uri": "https://localhost:8080/",
          "height": 206
        },
        "id": "aspYAcsknTnt",
        "outputId": "2db7e9ff-b079-4d1b-d147-3ea2ccf470fc"
      },
      "execution_count": 23,
      "outputs": [
        {
          "output_type": "execute_result",
          "data": {
            "text/plain": [
              "           Date    Open    High     Low   Close       Volume Adj Close\n",
              "0  Jun 01, 2021  504.01  536.13  482.14  528.21   78,560,600    528.21\n",
              "1  May 01, 2021  512.65  518.95  478.54  502.81   66,927,600    502.81\n",
              "2  Apr 01, 2021  529.93  563.56  499.00  513.47  111,573,300    513.47\n",
              "3  Mar 01, 2021  545.57  556.99  492.85  521.66   90,183,900    521.66\n",
              "4  Feb 01, 2021  536.79  566.65  518.28  538.85   61,902,300    538.85"
            ],
            "text/html": [
              "\n",
              "\n",
              "  <div id=\"df-c4ac4f93-32a2-4948-b35d-56d92dd8958e\">\n",
              "    <div class=\"colab-df-container\">\n",
              "      <div>\n",
              "<style scoped>\n",
              "    .dataframe tbody tr th:only-of-type {\n",
              "        vertical-align: middle;\n",
              "    }\n",
              "\n",
              "    .dataframe tbody tr th {\n",
              "        vertical-align: top;\n",
              "    }\n",
              "\n",
              "    .dataframe thead th {\n",
              "        text-align: right;\n",
              "    }\n",
              "</style>\n",
              "<table border=\"1\" class=\"dataframe\">\n",
              "  <thead>\n",
              "    <tr style=\"text-align: right;\">\n",
              "      <th></th>\n",
              "      <th>Date</th>\n",
              "      <th>Open</th>\n",
              "      <th>High</th>\n",
              "      <th>Low</th>\n",
              "      <th>Close</th>\n",
              "      <th>Volume</th>\n",
              "      <th>Adj Close</th>\n",
              "    </tr>\n",
              "  </thead>\n",
              "  <tbody>\n",
              "    <tr>\n",
              "      <th>0</th>\n",
              "      <td>Jun 01, 2021</td>\n",
              "      <td>504.01</td>\n",
              "      <td>536.13</td>\n",
              "      <td>482.14</td>\n",
              "      <td>528.21</td>\n",
              "      <td>78,560,600</td>\n",
              "      <td>528.21</td>\n",
              "    </tr>\n",
              "    <tr>\n",
              "      <th>1</th>\n",
              "      <td>May 01, 2021</td>\n",
              "      <td>512.65</td>\n",
              "      <td>518.95</td>\n",
              "      <td>478.54</td>\n",
              "      <td>502.81</td>\n",
              "      <td>66,927,600</td>\n",
              "      <td>502.81</td>\n",
              "    </tr>\n",
              "    <tr>\n",
              "      <th>2</th>\n",
              "      <td>Apr 01, 2021</td>\n",
              "      <td>529.93</td>\n",
              "      <td>563.56</td>\n",
              "      <td>499.00</td>\n",
              "      <td>513.47</td>\n",
              "      <td>111,573,300</td>\n",
              "      <td>513.47</td>\n",
              "    </tr>\n",
              "    <tr>\n",
              "      <th>3</th>\n",
              "      <td>Mar 01, 2021</td>\n",
              "      <td>545.57</td>\n",
              "      <td>556.99</td>\n",
              "      <td>492.85</td>\n",
              "      <td>521.66</td>\n",
              "      <td>90,183,900</td>\n",
              "      <td>521.66</td>\n",
              "    </tr>\n",
              "    <tr>\n",
              "      <th>4</th>\n",
              "      <td>Feb 01, 2021</td>\n",
              "      <td>536.79</td>\n",
              "      <td>566.65</td>\n",
              "      <td>518.28</td>\n",
              "      <td>538.85</td>\n",
              "      <td>61,902,300</td>\n",
              "      <td>538.85</td>\n",
              "    </tr>\n",
              "  </tbody>\n",
              "</table>\n",
              "</div>\n",
              "      <button class=\"colab-df-convert\" onclick=\"convertToInteractive('df-c4ac4f93-32a2-4948-b35d-56d92dd8958e')\"\n",
              "              title=\"Convert this dataframe to an interactive table.\"\n",
              "              style=\"display:none;\">\n",
              "\n",
              "  <svg xmlns=\"http://www.w3.org/2000/svg\" height=\"24px\"viewBox=\"0 0 24 24\"\n",
              "       width=\"24px\">\n",
              "    <path d=\"M0 0h24v24H0V0z\" fill=\"none\"/>\n",
              "    <path d=\"M18.56 5.44l.94 2.06.94-2.06 2.06-.94-2.06-.94-.94-2.06-.94 2.06-2.06.94zm-11 1L8.5 8.5l.94-2.06 2.06-.94-2.06-.94L8.5 2.5l-.94 2.06-2.06.94zm10 10l.94 2.06.94-2.06 2.06-.94-2.06-.94-.94-2.06-.94 2.06-2.06.94z\"/><path d=\"M17.41 7.96l-1.37-1.37c-.4-.4-.92-.59-1.43-.59-.52 0-1.04.2-1.43.59L10.3 9.45l-7.72 7.72c-.78.78-.78 2.05 0 2.83L4 21.41c.39.39.9.59 1.41.59.51 0 1.02-.2 1.41-.59l7.78-7.78 2.81-2.81c.8-.78.8-2.07 0-2.86zM5.41 20L4 18.59l7.72-7.72 1.47 1.35L5.41 20z\"/>\n",
              "  </svg>\n",
              "      </button>\n",
              "\n",
              "\n",
              "\n",
              "    <div id=\"df-e96a8640-30f5-4db0-a307-de927e289e1d\">\n",
              "      <button class=\"colab-df-quickchart\" onclick=\"quickchart('df-e96a8640-30f5-4db0-a307-de927e289e1d')\"\n",
              "              title=\"Suggest charts.\"\n",
              "              style=\"display:none;\">\n",
              "\n",
              "<svg xmlns=\"http://www.w3.org/2000/svg\" height=\"24px\"viewBox=\"0 0 24 24\"\n",
              "     width=\"24px\">\n",
              "    <g>\n",
              "        <path d=\"M19 3H5c-1.1 0-2 .9-2 2v14c0 1.1.9 2 2 2h14c1.1 0 2-.9 2-2V5c0-1.1-.9-2-2-2zM9 17H7v-7h2v7zm4 0h-2V7h2v10zm4 0h-2v-4h2v4z\"/>\n",
              "    </g>\n",
              "</svg>\n",
              "      </button>\n",
              "    </div>\n",
              "\n",
              "<style>\n",
              "  .colab-df-quickchart {\n",
              "    background-color: #E8F0FE;\n",
              "    border: none;\n",
              "    border-radius: 50%;\n",
              "    cursor: pointer;\n",
              "    display: none;\n",
              "    fill: #1967D2;\n",
              "    height: 32px;\n",
              "    padding: 0 0 0 0;\n",
              "    width: 32px;\n",
              "  }\n",
              "\n",
              "  .colab-df-quickchart:hover {\n",
              "    background-color: #E2EBFA;\n",
              "    box-shadow: 0px 1px 2px rgba(60, 64, 67, 0.3), 0px 1px 3px 1px rgba(60, 64, 67, 0.15);\n",
              "    fill: #174EA6;\n",
              "  }\n",
              "\n",
              "  [theme=dark] .colab-df-quickchart {\n",
              "    background-color: #3B4455;\n",
              "    fill: #D2E3FC;\n",
              "  }\n",
              "\n",
              "  [theme=dark] .colab-df-quickchart:hover {\n",
              "    background-color: #434B5C;\n",
              "    box-shadow: 0px 1px 3px 1px rgba(0, 0, 0, 0.15);\n",
              "    filter: drop-shadow(0px 1px 2px rgba(0, 0, 0, 0.3));\n",
              "    fill: #FFFFFF;\n",
              "  }\n",
              "</style>\n",
              "\n",
              "    <script>\n",
              "      async function quickchart(key) {\n",
              "        const containerElement = document.querySelector('#' + key);\n",
              "        const charts = await google.colab.kernel.invokeFunction(\n",
              "            'suggestCharts', [key], {});\n",
              "      }\n",
              "    </script>\n",
              "\n",
              "      <script>\n",
              "\n",
              "function displayQuickchartButton(domScope) {\n",
              "  let quickchartButtonEl =\n",
              "    domScope.querySelector('#df-e96a8640-30f5-4db0-a307-de927e289e1d button.colab-df-quickchart');\n",
              "  quickchartButtonEl.style.display =\n",
              "    google.colab.kernel.accessAllowed ? 'block' : 'none';\n",
              "}\n",
              "\n",
              "        displayQuickchartButton(document);\n",
              "      </script>\n",
              "      <style>\n",
              "    .colab-df-container {\n",
              "      display:flex;\n",
              "      flex-wrap:wrap;\n",
              "      gap: 12px;\n",
              "    }\n",
              "\n",
              "    .colab-df-convert {\n",
              "      background-color: #E8F0FE;\n",
              "      border: none;\n",
              "      border-radius: 50%;\n",
              "      cursor: pointer;\n",
              "      display: none;\n",
              "      fill: #1967D2;\n",
              "      height: 32px;\n",
              "      padding: 0 0 0 0;\n",
              "      width: 32px;\n",
              "    }\n",
              "\n",
              "    .colab-df-convert:hover {\n",
              "      background-color: #E2EBFA;\n",
              "      box-shadow: 0px 1px 2px rgba(60, 64, 67, 0.3), 0px 1px 3px 1px rgba(60, 64, 67, 0.15);\n",
              "      fill: #174EA6;\n",
              "    }\n",
              "\n",
              "    [theme=dark] .colab-df-convert {\n",
              "      background-color: #3B4455;\n",
              "      fill: #D2E3FC;\n",
              "    }\n",
              "\n",
              "    [theme=dark] .colab-df-convert:hover {\n",
              "      background-color: #434B5C;\n",
              "      box-shadow: 0px 1px 3px 1px rgba(0, 0, 0, 0.15);\n",
              "      filter: drop-shadow(0px 1px 2px rgba(0, 0, 0, 0.3));\n",
              "      fill: #FFFFFF;\n",
              "    }\n",
              "  </style>\n",
              "\n",
              "      <script>\n",
              "        const buttonEl =\n",
              "          document.querySelector('#df-c4ac4f93-32a2-4948-b35d-56d92dd8958e button.colab-df-convert');\n",
              "        buttonEl.style.display =\n",
              "          google.colab.kernel.accessAllowed ? 'block' : 'none';\n",
              "\n",
              "        async function convertToInteractive(key) {\n",
              "          const element = document.querySelector('#df-c4ac4f93-32a2-4948-b35d-56d92dd8958e');\n",
              "          const dataTable =\n",
              "            await google.colab.kernel.invokeFunction('convertToInteractive',\n",
              "                                                     [key], {});\n",
              "          if (!dataTable) return;\n",
              "\n",
              "          const docLinkHtml = 'Like what you see? Visit the ' +\n",
              "            '<a target=\"_blank\" href=https://colab.research.google.com/notebooks/data_table.ipynb>data table notebook</a>'\n",
              "            + ' to learn more about interactive tables.';\n",
              "          element.innerHTML = '';\n",
              "          dataTable['output_type'] = 'display_data';\n",
              "          await google.colab.output.renderOutput(dataTable, element);\n",
              "          const docLink = document.createElement('div');\n",
              "          docLink.innerHTML = docLinkHtml;\n",
              "          element.appendChild(docLink);\n",
              "        }\n",
              "      </script>\n",
              "    </div>\n",
              "  </div>\n"
            ]
          },
          "metadata": {},
          "execution_count": 23
        }
      ]
    },
    {
      "cell_type": "markdown",
      "source": [
        "###WE CAN PERFORM SLICING TO  THE TABLE ABOVE\n"
      ],
      "metadata": {
        "id": "ec9V5auTnkkE"
      }
    },
    {
      "cell_type": "code",
      "source": [
        "netflix_data.iloc[0:3, 0:4]"
      ],
      "metadata": {
        "colab": {
          "base_uri": "https://localhost:8080/",
          "height": 143
        },
        "id": "ZiLZ6vfwnvno",
        "outputId": "2f36443c-738a-4ef3-fbe9-2b13865f9197"
      },
      "execution_count": 37,
      "outputs": [
        {
          "output_type": "execute_result",
          "data": {
            "text/plain": [
              "           Date    Open    High     Low\n",
              "0  Jun 01, 2021  504.01  536.13  482.14\n",
              "1  May 01, 2021  512.65  518.95  478.54\n",
              "2  Apr 01, 2021  529.93  563.56  499.00"
            ],
            "text/html": [
              "\n",
              "\n",
              "  <div id=\"df-e5533248-9570-4152-95df-a5247ec1c637\">\n",
              "    <div class=\"colab-df-container\">\n",
              "      <div>\n",
              "<style scoped>\n",
              "    .dataframe tbody tr th:only-of-type {\n",
              "        vertical-align: middle;\n",
              "    }\n",
              "\n",
              "    .dataframe tbody tr th {\n",
              "        vertical-align: top;\n",
              "    }\n",
              "\n",
              "    .dataframe thead th {\n",
              "        text-align: right;\n",
              "    }\n",
              "</style>\n",
              "<table border=\"1\" class=\"dataframe\">\n",
              "  <thead>\n",
              "    <tr style=\"text-align: right;\">\n",
              "      <th></th>\n",
              "      <th>Date</th>\n",
              "      <th>Open</th>\n",
              "      <th>High</th>\n",
              "      <th>Low</th>\n",
              "    </tr>\n",
              "  </thead>\n",
              "  <tbody>\n",
              "    <tr>\n",
              "      <th>0</th>\n",
              "      <td>Jun 01, 2021</td>\n",
              "      <td>504.01</td>\n",
              "      <td>536.13</td>\n",
              "      <td>482.14</td>\n",
              "    </tr>\n",
              "    <tr>\n",
              "      <th>1</th>\n",
              "      <td>May 01, 2021</td>\n",
              "      <td>512.65</td>\n",
              "      <td>518.95</td>\n",
              "      <td>478.54</td>\n",
              "    </tr>\n",
              "    <tr>\n",
              "      <th>2</th>\n",
              "      <td>Apr 01, 2021</td>\n",
              "      <td>529.93</td>\n",
              "      <td>563.56</td>\n",
              "      <td>499.00</td>\n",
              "    </tr>\n",
              "  </tbody>\n",
              "</table>\n",
              "</div>\n",
              "      <button class=\"colab-df-convert\" onclick=\"convertToInteractive('df-e5533248-9570-4152-95df-a5247ec1c637')\"\n",
              "              title=\"Convert this dataframe to an interactive table.\"\n",
              "              style=\"display:none;\">\n",
              "\n",
              "  <svg xmlns=\"http://www.w3.org/2000/svg\" height=\"24px\"viewBox=\"0 0 24 24\"\n",
              "       width=\"24px\">\n",
              "    <path d=\"M0 0h24v24H0V0z\" fill=\"none\"/>\n",
              "    <path d=\"M18.56 5.44l.94 2.06.94-2.06 2.06-.94-2.06-.94-.94-2.06-.94 2.06-2.06.94zm-11 1L8.5 8.5l.94-2.06 2.06-.94-2.06-.94L8.5 2.5l-.94 2.06-2.06.94zm10 10l.94 2.06.94-2.06 2.06-.94-2.06-.94-.94-2.06-.94 2.06-2.06.94z\"/><path d=\"M17.41 7.96l-1.37-1.37c-.4-.4-.92-.59-1.43-.59-.52 0-1.04.2-1.43.59L10.3 9.45l-7.72 7.72c-.78.78-.78 2.05 0 2.83L4 21.41c.39.39.9.59 1.41.59.51 0 1.02-.2 1.41-.59l7.78-7.78 2.81-2.81c.8-.78.8-2.07 0-2.86zM5.41 20L4 18.59l7.72-7.72 1.47 1.35L5.41 20z\"/>\n",
              "  </svg>\n",
              "      </button>\n",
              "\n",
              "\n",
              "\n",
              "    <div id=\"df-e00f7393-7eba-4218-a043-56990c4ef90f\">\n",
              "      <button class=\"colab-df-quickchart\" onclick=\"quickchart('df-e00f7393-7eba-4218-a043-56990c4ef90f')\"\n",
              "              title=\"Suggest charts.\"\n",
              "              style=\"display:none;\">\n",
              "\n",
              "<svg xmlns=\"http://www.w3.org/2000/svg\" height=\"24px\"viewBox=\"0 0 24 24\"\n",
              "     width=\"24px\">\n",
              "    <g>\n",
              "        <path d=\"M19 3H5c-1.1 0-2 .9-2 2v14c0 1.1.9 2 2 2h14c1.1 0 2-.9 2-2V5c0-1.1-.9-2-2-2zM9 17H7v-7h2v7zm4 0h-2V7h2v10zm4 0h-2v-4h2v4z\"/>\n",
              "    </g>\n",
              "</svg>\n",
              "      </button>\n",
              "    </div>\n",
              "\n",
              "<style>\n",
              "  .colab-df-quickchart {\n",
              "    background-color: #E8F0FE;\n",
              "    border: none;\n",
              "    border-radius: 50%;\n",
              "    cursor: pointer;\n",
              "    display: none;\n",
              "    fill: #1967D2;\n",
              "    height: 32px;\n",
              "    padding: 0 0 0 0;\n",
              "    width: 32px;\n",
              "  }\n",
              "\n",
              "  .colab-df-quickchart:hover {\n",
              "    background-color: #E2EBFA;\n",
              "    box-shadow: 0px 1px 2px rgba(60, 64, 67, 0.3), 0px 1px 3px 1px rgba(60, 64, 67, 0.15);\n",
              "    fill: #174EA6;\n",
              "  }\n",
              "\n",
              "  [theme=dark] .colab-df-quickchart {\n",
              "    background-color: #3B4455;\n",
              "    fill: #D2E3FC;\n",
              "  }\n",
              "\n",
              "  [theme=dark] .colab-df-quickchart:hover {\n",
              "    background-color: #434B5C;\n",
              "    box-shadow: 0px 1px 3px 1px rgba(0, 0, 0, 0.15);\n",
              "    filter: drop-shadow(0px 1px 2px rgba(0, 0, 0, 0.3));\n",
              "    fill: #FFFFFF;\n",
              "  }\n",
              "</style>\n",
              "\n",
              "    <script>\n",
              "      async function quickchart(key) {\n",
              "        const containerElement = document.querySelector('#' + key);\n",
              "        const charts = await google.colab.kernel.invokeFunction(\n",
              "            'suggestCharts', [key], {});\n",
              "      }\n",
              "    </script>\n",
              "\n",
              "      <script>\n",
              "\n",
              "function displayQuickchartButton(domScope) {\n",
              "  let quickchartButtonEl =\n",
              "    domScope.querySelector('#df-e00f7393-7eba-4218-a043-56990c4ef90f button.colab-df-quickchart');\n",
              "  quickchartButtonEl.style.display =\n",
              "    google.colab.kernel.accessAllowed ? 'block' : 'none';\n",
              "}\n",
              "\n",
              "        displayQuickchartButton(document);\n",
              "      </script>\n",
              "      <style>\n",
              "    .colab-df-container {\n",
              "      display:flex;\n",
              "      flex-wrap:wrap;\n",
              "      gap: 12px;\n",
              "    }\n",
              "\n",
              "    .colab-df-convert {\n",
              "      background-color: #E8F0FE;\n",
              "      border: none;\n",
              "      border-radius: 50%;\n",
              "      cursor: pointer;\n",
              "      display: none;\n",
              "      fill: #1967D2;\n",
              "      height: 32px;\n",
              "      padding: 0 0 0 0;\n",
              "      width: 32px;\n",
              "    }\n",
              "\n",
              "    .colab-df-convert:hover {\n",
              "      background-color: #E2EBFA;\n",
              "      box-shadow: 0px 1px 2px rgba(60, 64, 67, 0.3), 0px 1px 3px 1px rgba(60, 64, 67, 0.15);\n",
              "      fill: #174EA6;\n",
              "    }\n",
              "\n",
              "    [theme=dark] .colab-df-convert {\n",
              "      background-color: #3B4455;\n",
              "      fill: #D2E3FC;\n",
              "    }\n",
              "\n",
              "    [theme=dark] .colab-df-convert:hover {\n",
              "      background-color: #434B5C;\n",
              "      box-shadow: 0px 1px 3px 1px rgba(0, 0, 0, 0.15);\n",
              "      filter: drop-shadow(0px 1px 2px rgba(0, 0, 0, 0.3));\n",
              "      fill: #FFFFFF;\n",
              "    }\n",
              "  </style>\n",
              "\n",
              "      <script>\n",
              "        const buttonEl =\n",
              "          document.querySelector('#df-e5533248-9570-4152-95df-a5247ec1c637 button.colab-df-convert');\n",
              "        buttonEl.style.display =\n",
              "          google.colab.kernel.accessAllowed ? 'block' : 'none';\n",
              "\n",
              "        async function convertToInteractive(key) {\n",
              "          const element = document.querySelector('#df-e5533248-9570-4152-95df-a5247ec1c637');\n",
              "          const dataTable =\n",
              "            await google.colab.kernel.invokeFunction('convertToInteractive',\n",
              "                                                     [key], {});\n",
              "          if (!dataTable) return;\n",
              "\n",
              "          const docLinkHtml = 'Like what you see? Visit the ' +\n",
              "            '<a target=\"_blank\" href=https://colab.research.google.com/notebooks/data_table.ipynb>data table notebook</a>'\n",
              "            + ' to learn more about interactive tables.';\n",
              "          element.innerHTML = '';\n",
              "          dataTable['output_type'] = 'display_data';\n",
              "          await google.colab.output.renderOutput(dataTable, element);\n",
              "          const docLink = document.createElement('div');\n",
              "          docLink.innerHTML = docLinkHtml;\n",
              "          element.appendChild(docLink);\n",
              "        }\n",
              "      </script>\n",
              "    </div>\n",
              "  </div>\n"
            ]
          },
          "metadata": {},
          "execution_count": 37
        }
      ]
    },
    {
      "cell_type": "markdown",
      "source": [
        "*Thank you*\n",
        "\n",
        "**Author**\n",
        "\n",
        "Promise Emoghene\n",
        "\n",
        "**Copyright**\n",
        "\n",
        "Skill Lib ibm cert network."
      ],
      "metadata": {
        "id": "Zn0uYBUEqjuh"
      }
    },
    {
      "cell_type": "code",
      "source": [],
      "metadata": {
        "id": "aqmcKCh-rNjT"
      },
      "execution_count": null,
      "outputs": []
    }
  ]
}