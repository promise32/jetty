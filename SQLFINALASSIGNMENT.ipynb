{
  "nbformat": 4,
  "nbformat_minor": 0,
  "metadata": {
    "colab": {
      "provenance": [],
      "authorship_tag": "ABX9TyMzlNBp2zOXQTEomA4ADFLp",
      "include_colab_link": true
    },
    "kernelspec": {
      "name": "python3",
      "display_name": "Python 3"
    },
    "language_info": {
      "name": "python"
    }
  },
  "cells": [
    {
      "cell_type": "markdown",
      "metadata": {
        "id": "view-in-github",
        "colab_type": "text"
      },
      "source": [
        "<a href=\"https://colab.research.google.com/github/promise32/jetty/blob/promise32-patch-4/SQLFINALASSIGNMENT.ipynb\" target=\"_parent\"><img src=\"https://colab.research.google.com/assets/colab-badge.svg\" alt=\"Open In Colab\"/></a>"
      ]
    },
    {
      "cell_type": "markdown",
      "source": [
        "## Assignment: Notebook for Peer Assignment\n",
        "###DATA SETS\n",
        "\n",
        "*Socioeconomic Indicators in Chicago*\n",
        "\n",
        "*Chicago Public Schools*\n",
        "\n",
        "*Chicago Crime Dat*\n",
        "\n"
      ],
      "metadata": {
        "id": "w8Y5Alj73ItA"
      }
    },
    {
      "cell_type": "code",
      "source": [
        "import csv, sqlite3\n",
        "\n",
        "con = sqlite3.connect(\"FinalDB.db\")\n",
        "cur = con.cursor()"
      ],
      "metadata": {
        "id": "mbxrSKjq4e37"
      },
      "execution_count": 1,
      "outputs": []
    },
    {
      "cell_type": "code",
      "source": [
        "import pandas as pd"
      ],
      "metadata": {
        "id": "icXREf-I5Ddj"
      },
      "execution_count": 2,
      "outputs": []
    },
    {
      "cell_type": "code",
      "source": [
        "%load_ext sql"
      ],
      "metadata": {
        "id": "eyVthp-D5Pq0"
      },
      "execution_count": 3,
      "outputs": []
    },
    {
      "cell_type": "code",
      "source": [
        "%sql sqlite:///FinalDB.db"
      ],
      "metadata": {
        "id": "kQK8S8KO5RgY"
      },
      "execution_count": 4,
      "outputs": []
    },
    {
      "cell_type": "code",
      "source": [
        "from google.colab import drive\n",
        "drive.mount(\"/content/drive\")"
      ],
      "metadata": {
        "id": "GBQcD-md7Gol",
        "colab": {
          "base_uri": "https://localhost:8080/"
        },
        "outputId": "4f59ae53-ebd3-4792-d5e8-83be3720fc23"
      },
      "execution_count": 5,
      "outputs": [
        {
          "output_type": "stream",
          "name": "stdout",
          "text": [
            "Mounted at /content/drive\n"
          ]
        }
      ]
    },
    {
      "cell_type": "code",
      "source": [
        "path =  \"/content/drive/MyDrive/Colab Notebooks/ChicagoCrimeData.csv\""
      ],
      "metadata": {
        "id": "UYrxfWg2D4MP"
      },
      "execution_count": 6,
      "outputs": []
    },
    {
      "cell_type": "code",
      "source": [
        "path2= '/content/drive/MyDrive/Colab Notebooks/ChicagoCensusData.csv'"
      ],
      "metadata": {
        "id": "Y55stxlHFgNr"
      },
      "execution_count": 7,
      "outputs": []
    },
    {
      "cell_type": "code",
      "source": [
        "path3= '/content/drive/MyDrive/Colab Notebooks/ChicagoPublicSchools (1).csv'"
      ],
      "metadata": {
        "id": "y-2DjrU_Ff0j"
      },
      "execution_count": 8,
      "outputs": []
    },
    {
      "cell_type": "code",
      "source": [
        "df= pd.read_csv(path)\n",
        "df.to_sql(\"ChicagoCrimeData\", con, if_exists='replace', index=False,method=\"multi\")\n",
        "\n",
        "df2= pd.read_csv(path2)\n",
        "df2.to_sql(\"ChicagoCensusData\", con, if_exists='replace', index=False,method=\"multi\")\n",
        "\n",
        "df3= pd.read_csv(path3)\n",
        "df3.to_sql(\"ChicagoPublicSchools\", con, if_exists='replace', index=False,method=\"multi\")\n",
        "\n",
        "df4= pd.read_csv(path3)\n",
        "df4.to_sql(\"Chicago_Public_Schools_-_Progress_Report_Cards__2011-2012_\", con, if_exists='replace', index=False,method=\"multi\")\n"
      ],
      "metadata": {
        "colab": {
          "base_uri": "https://localhost:8080/"
        },
        "id": "Ye4dgaSlFOZj",
        "outputId": "69bd9b86-ab2e-43d5-d607-3200938caa08"
      },
      "execution_count": 75,
      "outputs": [
        {
          "output_type": "execute_result",
          "data": {
            "text/plain": [
              "566"
            ]
          },
          "metadata": {},
          "execution_count": 75
        }
      ]
    },
    {
      "cell_type": "code",
      "source": [
        "%sql SELECT name,type,length(type) FROM PRAGMA_TABLE_INFO('ChicagoPublicSchools');"
      ],
      "metadata": {
        "colab": {
          "base_uri": "https://localhost:8080/",
          "height": 1000
        },
        "id": "1w-HL2B2VnNM",
        "outputId": "9a306134-08b8-4dbc-853c-707c7e2fc699"
      },
      "execution_count": 10,
      "outputs": [
        {
          "output_type": "stream",
          "name": "stdout",
          "text": [
            " * sqlite:///FinalDB.db\n",
            "Done.\n"
          ]
        },
        {
          "output_type": "execute_result",
          "data": {
            "text/plain": [
              "[('School_ID', 'INTEGER', 7),\n",
              " ('NAME_OF_SCHOOL', 'TEXT', 4),\n",
              " ('Elementary, Middle, or High School', 'TEXT', 4),\n",
              " ('Street_Address', 'TEXT', 4),\n",
              " ('City', 'TEXT', 4),\n",
              " ('State', 'TEXT', 4),\n",
              " ('ZIP_Code', 'INTEGER', 7),\n",
              " ('Phone_Number', 'TEXT', 4),\n",
              " ('Link', 'TEXT', 4),\n",
              " ('Network_Manager', 'TEXT', 4),\n",
              " ('Collaborative_Name', 'TEXT', 4),\n",
              " ('Adequate_Yearly_Progress_Made_', 'TEXT', 4),\n",
              " ('Track_Schedule', 'TEXT', 4),\n",
              " ('CPS_Performance_Policy_Status', 'TEXT', 4),\n",
              " ('CPS_Performance_Policy_Level', 'TEXT', 4),\n",
              " ('HEALTHY_SCHOOL_CERTIFIED', 'TEXT', 4),\n",
              " ('Safety_Icon', 'TEXT', 4),\n",
              " ('SAFETY_SCORE', 'REAL', 4),\n",
              " ('Family_Involvement_Icon', 'TEXT', 4),\n",
              " ('Family_Involvement_Score', 'TEXT', 4),\n",
              " ('Environment_Icon', 'TEXT', 4),\n",
              " ('Environment_Score', 'REAL', 4),\n",
              " ('Instruction_Icon', 'TEXT', 4),\n",
              " ('Instruction_Score', 'REAL', 4),\n",
              " ('Leaders_Icon', 'TEXT', 4),\n",
              " ('Leaders_Score', 'TEXT', 4),\n",
              " ('Teachers_Icon', 'TEXT', 4),\n",
              " ('Teachers_Score', 'TEXT', 4),\n",
              " ('Parent_Engagement_Icon', 'TEXT', 4),\n",
              " ('Parent_Engagement_Score', 'TEXT', 4),\n",
              " ('Parent_Environment_Icon', 'TEXT', 4),\n",
              " ('Parent_Environment_Score', 'TEXT', 4),\n",
              " ('AVERAGE_STUDENT_ATTENDANCE', 'TEXT', 4),\n",
              " ('Rate_of_Misconducts__per_100_students_', 'REAL', 4),\n",
              " ('Average_Teacher_Attendance', 'TEXT', 4),\n",
              " ('Individualized_Education_Program_Compliance_Rate', 'TEXT', 4),\n",
              " ('Pk_2_Literacy__', 'TEXT', 4),\n",
              " ('Pk_2_Math__', 'TEXT', 4),\n",
              " ('Gr3_5_Grade_Level_Math__', 'TEXT', 4),\n",
              " ('Gr3_5_Grade_Level_Read__', 'TEXT', 4),\n",
              " ('Gr3_5_Keep_Pace_Read__', 'TEXT', 4),\n",
              " ('Gr3_5_Keep_Pace_Math__', 'TEXT', 4),\n",
              " ('Gr6_8_Grade_Level_Math__', 'TEXT', 4),\n",
              " ('Gr6_8_Grade_Level_Read__', 'TEXT', 4),\n",
              " ('Gr6_8_Keep_Pace_Math_', 'TEXT', 4),\n",
              " ('Gr6_8_Keep_Pace_Read__', 'TEXT', 4),\n",
              " ('Gr_8_Explore_Math__', 'TEXT', 4),\n",
              " ('Gr_8_Explore_Read__', 'TEXT', 4),\n",
              " ('ISAT_Exceeding_Math__', 'REAL', 4),\n",
              " ('ISAT_Exceeding_Reading__', 'REAL', 4),\n",
              " ('ISAT_Value_Add_Math', 'REAL', 4),\n",
              " ('ISAT_Value_Add_Read', 'REAL', 4),\n",
              " ('ISAT_Value_Add_Color_Math', 'TEXT', 4),\n",
              " ('ISAT_Value_Add_Color_Read', 'TEXT', 4),\n",
              " ('Students_Taking__Algebra__', 'TEXT', 4),\n",
              " ('Students_Passing__Algebra__', 'TEXT', 4),\n",
              " ('9th Grade EXPLORE (2009)', 'TEXT', 4),\n",
              " ('9th Grade EXPLORE (2010)', 'TEXT', 4),\n",
              " ('10th Grade PLAN (2009)', 'TEXT', 4),\n",
              " ('10th Grade PLAN (2010)', 'TEXT', 4),\n",
              " ('Net_Change_EXPLORE_and_PLAN', 'TEXT', 4),\n",
              " ('11th Grade Average ACT (2011)', 'TEXT', 4),\n",
              " ('Net_Change_PLAN_and_ACT', 'TEXT', 4),\n",
              " ('College_Eligibility__', 'TEXT', 4),\n",
              " ('Graduation_Rate__', 'TEXT', 4),\n",
              " ('College_Enrollment_Rate__', 'TEXT', 4),\n",
              " ('COLLEGE_ENROLLMENT', 'INTEGER', 7),\n",
              " ('General_Services_Route', 'INTEGER', 7),\n",
              " ('Freshman_on_Track_Rate__', 'TEXT', 4),\n",
              " ('X_COORDINATE', 'REAL', 4),\n",
              " ('Y_COORDINATE', 'REAL', 4),\n",
              " ('Latitude', 'REAL', 4),\n",
              " ('Longitude', 'REAL', 4),\n",
              " ('COMMUNITY_AREA_NUMBER', 'INTEGER', 7),\n",
              " ('COMMUNITY_AREA_NAME', 'TEXT', 4),\n",
              " ('Ward', 'INTEGER', 7),\n",
              " ('Police_District', 'INTEGER', 7),\n",
              " ('Location', 'TEXT', 4)]"
            ],
            "text/html": [
              "<table>\n",
              "    <thead>\n",
              "        <tr>\n",
              "            <th>name</th>\n",
              "            <th>type</th>\n",
              "            <th>length(type)</th>\n",
              "        </tr>\n",
              "    </thead>\n",
              "    <tbody>\n",
              "        <tr>\n",
              "            <td>School_ID</td>\n",
              "            <td>INTEGER</td>\n",
              "            <td>7</td>\n",
              "        </tr>\n",
              "        <tr>\n",
              "            <td>NAME_OF_SCHOOL</td>\n",
              "            <td>TEXT</td>\n",
              "            <td>4</td>\n",
              "        </tr>\n",
              "        <tr>\n",
              "            <td>Elementary, Middle, or High School</td>\n",
              "            <td>TEXT</td>\n",
              "            <td>4</td>\n",
              "        </tr>\n",
              "        <tr>\n",
              "            <td>Street_Address</td>\n",
              "            <td>TEXT</td>\n",
              "            <td>4</td>\n",
              "        </tr>\n",
              "        <tr>\n",
              "            <td>City</td>\n",
              "            <td>TEXT</td>\n",
              "            <td>4</td>\n",
              "        </tr>\n",
              "        <tr>\n",
              "            <td>State</td>\n",
              "            <td>TEXT</td>\n",
              "            <td>4</td>\n",
              "        </tr>\n",
              "        <tr>\n",
              "            <td>ZIP_Code</td>\n",
              "            <td>INTEGER</td>\n",
              "            <td>7</td>\n",
              "        </tr>\n",
              "        <tr>\n",
              "            <td>Phone_Number</td>\n",
              "            <td>TEXT</td>\n",
              "            <td>4</td>\n",
              "        </tr>\n",
              "        <tr>\n",
              "            <td>Link</td>\n",
              "            <td>TEXT</td>\n",
              "            <td>4</td>\n",
              "        </tr>\n",
              "        <tr>\n",
              "            <td>Network_Manager</td>\n",
              "            <td>TEXT</td>\n",
              "            <td>4</td>\n",
              "        </tr>\n",
              "        <tr>\n",
              "            <td>Collaborative_Name</td>\n",
              "            <td>TEXT</td>\n",
              "            <td>4</td>\n",
              "        </tr>\n",
              "        <tr>\n",
              "            <td>Adequate_Yearly_Progress_Made_</td>\n",
              "            <td>TEXT</td>\n",
              "            <td>4</td>\n",
              "        </tr>\n",
              "        <tr>\n",
              "            <td>Track_Schedule</td>\n",
              "            <td>TEXT</td>\n",
              "            <td>4</td>\n",
              "        </tr>\n",
              "        <tr>\n",
              "            <td>CPS_Performance_Policy_Status</td>\n",
              "            <td>TEXT</td>\n",
              "            <td>4</td>\n",
              "        </tr>\n",
              "        <tr>\n",
              "            <td>CPS_Performance_Policy_Level</td>\n",
              "            <td>TEXT</td>\n",
              "            <td>4</td>\n",
              "        </tr>\n",
              "        <tr>\n",
              "            <td>HEALTHY_SCHOOL_CERTIFIED</td>\n",
              "            <td>TEXT</td>\n",
              "            <td>4</td>\n",
              "        </tr>\n",
              "        <tr>\n",
              "            <td>Safety_Icon</td>\n",
              "            <td>TEXT</td>\n",
              "            <td>4</td>\n",
              "        </tr>\n",
              "        <tr>\n",
              "            <td>SAFETY_SCORE</td>\n",
              "            <td>REAL</td>\n",
              "            <td>4</td>\n",
              "        </tr>\n",
              "        <tr>\n",
              "            <td>Family_Involvement_Icon</td>\n",
              "            <td>TEXT</td>\n",
              "            <td>4</td>\n",
              "        </tr>\n",
              "        <tr>\n",
              "            <td>Family_Involvement_Score</td>\n",
              "            <td>TEXT</td>\n",
              "            <td>4</td>\n",
              "        </tr>\n",
              "        <tr>\n",
              "            <td>Environment_Icon</td>\n",
              "            <td>TEXT</td>\n",
              "            <td>4</td>\n",
              "        </tr>\n",
              "        <tr>\n",
              "            <td>Environment_Score</td>\n",
              "            <td>REAL</td>\n",
              "            <td>4</td>\n",
              "        </tr>\n",
              "        <tr>\n",
              "            <td>Instruction_Icon</td>\n",
              "            <td>TEXT</td>\n",
              "            <td>4</td>\n",
              "        </tr>\n",
              "        <tr>\n",
              "            <td>Instruction_Score</td>\n",
              "            <td>REAL</td>\n",
              "            <td>4</td>\n",
              "        </tr>\n",
              "        <tr>\n",
              "            <td>Leaders_Icon</td>\n",
              "            <td>TEXT</td>\n",
              "            <td>4</td>\n",
              "        </tr>\n",
              "        <tr>\n",
              "            <td>Leaders_Score</td>\n",
              "            <td>TEXT</td>\n",
              "            <td>4</td>\n",
              "        </tr>\n",
              "        <tr>\n",
              "            <td>Teachers_Icon</td>\n",
              "            <td>TEXT</td>\n",
              "            <td>4</td>\n",
              "        </tr>\n",
              "        <tr>\n",
              "            <td>Teachers_Score</td>\n",
              "            <td>TEXT</td>\n",
              "            <td>4</td>\n",
              "        </tr>\n",
              "        <tr>\n",
              "            <td>Parent_Engagement_Icon</td>\n",
              "            <td>TEXT</td>\n",
              "            <td>4</td>\n",
              "        </tr>\n",
              "        <tr>\n",
              "            <td>Parent_Engagement_Score</td>\n",
              "            <td>TEXT</td>\n",
              "            <td>4</td>\n",
              "        </tr>\n",
              "        <tr>\n",
              "            <td>Parent_Environment_Icon</td>\n",
              "            <td>TEXT</td>\n",
              "            <td>4</td>\n",
              "        </tr>\n",
              "        <tr>\n",
              "            <td>Parent_Environment_Score</td>\n",
              "            <td>TEXT</td>\n",
              "            <td>4</td>\n",
              "        </tr>\n",
              "        <tr>\n",
              "            <td>AVERAGE_STUDENT_ATTENDANCE</td>\n",
              "            <td>TEXT</td>\n",
              "            <td>4</td>\n",
              "        </tr>\n",
              "        <tr>\n",
              "            <td>Rate_of_Misconducts__per_100_students_</td>\n",
              "            <td>REAL</td>\n",
              "            <td>4</td>\n",
              "        </tr>\n",
              "        <tr>\n",
              "            <td>Average_Teacher_Attendance</td>\n",
              "            <td>TEXT</td>\n",
              "            <td>4</td>\n",
              "        </tr>\n",
              "        <tr>\n",
              "            <td>Individualized_Education_Program_Compliance_Rate</td>\n",
              "            <td>TEXT</td>\n",
              "            <td>4</td>\n",
              "        </tr>\n",
              "        <tr>\n",
              "            <td>Pk_2_Literacy__</td>\n",
              "            <td>TEXT</td>\n",
              "            <td>4</td>\n",
              "        </tr>\n",
              "        <tr>\n",
              "            <td>Pk_2_Math__</td>\n",
              "            <td>TEXT</td>\n",
              "            <td>4</td>\n",
              "        </tr>\n",
              "        <tr>\n",
              "            <td>Gr3_5_Grade_Level_Math__</td>\n",
              "            <td>TEXT</td>\n",
              "            <td>4</td>\n",
              "        </tr>\n",
              "        <tr>\n",
              "            <td>Gr3_5_Grade_Level_Read__</td>\n",
              "            <td>TEXT</td>\n",
              "            <td>4</td>\n",
              "        </tr>\n",
              "        <tr>\n",
              "            <td>Gr3_5_Keep_Pace_Read__</td>\n",
              "            <td>TEXT</td>\n",
              "            <td>4</td>\n",
              "        </tr>\n",
              "        <tr>\n",
              "            <td>Gr3_5_Keep_Pace_Math__</td>\n",
              "            <td>TEXT</td>\n",
              "            <td>4</td>\n",
              "        </tr>\n",
              "        <tr>\n",
              "            <td>Gr6_8_Grade_Level_Math__</td>\n",
              "            <td>TEXT</td>\n",
              "            <td>4</td>\n",
              "        </tr>\n",
              "        <tr>\n",
              "            <td>Gr6_8_Grade_Level_Read__</td>\n",
              "            <td>TEXT</td>\n",
              "            <td>4</td>\n",
              "        </tr>\n",
              "        <tr>\n",
              "            <td>Gr6_8_Keep_Pace_Math_</td>\n",
              "            <td>TEXT</td>\n",
              "            <td>4</td>\n",
              "        </tr>\n",
              "        <tr>\n",
              "            <td>Gr6_8_Keep_Pace_Read__</td>\n",
              "            <td>TEXT</td>\n",
              "            <td>4</td>\n",
              "        </tr>\n",
              "        <tr>\n",
              "            <td>Gr_8_Explore_Math__</td>\n",
              "            <td>TEXT</td>\n",
              "            <td>4</td>\n",
              "        </tr>\n",
              "        <tr>\n",
              "            <td>Gr_8_Explore_Read__</td>\n",
              "            <td>TEXT</td>\n",
              "            <td>4</td>\n",
              "        </tr>\n",
              "        <tr>\n",
              "            <td>ISAT_Exceeding_Math__</td>\n",
              "            <td>REAL</td>\n",
              "            <td>4</td>\n",
              "        </tr>\n",
              "        <tr>\n",
              "            <td>ISAT_Exceeding_Reading__</td>\n",
              "            <td>REAL</td>\n",
              "            <td>4</td>\n",
              "        </tr>\n",
              "        <tr>\n",
              "            <td>ISAT_Value_Add_Math</td>\n",
              "            <td>REAL</td>\n",
              "            <td>4</td>\n",
              "        </tr>\n",
              "        <tr>\n",
              "            <td>ISAT_Value_Add_Read</td>\n",
              "            <td>REAL</td>\n",
              "            <td>4</td>\n",
              "        </tr>\n",
              "        <tr>\n",
              "            <td>ISAT_Value_Add_Color_Math</td>\n",
              "            <td>TEXT</td>\n",
              "            <td>4</td>\n",
              "        </tr>\n",
              "        <tr>\n",
              "            <td>ISAT_Value_Add_Color_Read</td>\n",
              "            <td>TEXT</td>\n",
              "            <td>4</td>\n",
              "        </tr>\n",
              "        <tr>\n",
              "            <td>Students_Taking__Algebra__</td>\n",
              "            <td>TEXT</td>\n",
              "            <td>4</td>\n",
              "        </tr>\n",
              "        <tr>\n",
              "            <td>Students_Passing__Algebra__</td>\n",
              "            <td>TEXT</td>\n",
              "            <td>4</td>\n",
              "        </tr>\n",
              "        <tr>\n",
              "            <td>9th Grade EXPLORE (2009)</td>\n",
              "            <td>TEXT</td>\n",
              "            <td>4</td>\n",
              "        </tr>\n",
              "        <tr>\n",
              "            <td>9th Grade EXPLORE (2010)</td>\n",
              "            <td>TEXT</td>\n",
              "            <td>4</td>\n",
              "        </tr>\n",
              "        <tr>\n",
              "            <td>10th Grade PLAN (2009)</td>\n",
              "            <td>TEXT</td>\n",
              "            <td>4</td>\n",
              "        </tr>\n",
              "        <tr>\n",
              "            <td>10th Grade PLAN (2010)</td>\n",
              "            <td>TEXT</td>\n",
              "            <td>4</td>\n",
              "        </tr>\n",
              "        <tr>\n",
              "            <td>Net_Change_EXPLORE_and_PLAN</td>\n",
              "            <td>TEXT</td>\n",
              "            <td>4</td>\n",
              "        </tr>\n",
              "        <tr>\n",
              "            <td>11th Grade Average ACT (2011)</td>\n",
              "            <td>TEXT</td>\n",
              "            <td>4</td>\n",
              "        </tr>\n",
              "        <tr>\n",
              "            <td>Net_Change_PLAN_and_ACT</td>\n",
              "            <td>TEXT</td>\n",
              "            <td>4</td>\n",
              "        </tr>\n",
              "        <tr>\n",
              "            <td>College_Eligibility__</td>\n",
              "            <td>TEXT</td>\n",
              "            <td>4</td>\n",
              "        </tr>\n",
              "        <tr>\n",
              "            <td>Graduation_Rate__</td>\n",
              "            <td>TEXT</td>\n",
              "            <td>4</td>\n",
              "        </tr>\n",
              "        <tr>\n",
              "            <td>College_Enrollment_Rate__</td>\n",
              "            <td>TEXT</td>\n",
              "            <td>4</td>\n",
              "        </tr>\n",
              "        <tr>\n",
              "            <td>COLLEGE_ENROLLMENT</td>\n",
              "            <td>INTEGER</td>\n",
              "            <td>7</td>\n",
              "        </tr>\n",
              "        <tr>\n",
              "            <td>General_Services_Route</td>\n",
              "            <td>INTEGER</td>\n",
              "            <td>7</td>\n",
              "        </tr>\n",
              "        <tr>\n",
              "            <td>Freshman_on_Track_Rate__</td>\n",
              "            <td>TEXT</td>\n",
              "            <td>4</td>\n",
              "        </tr>\n",
              "        <tr>\n",
              "            <td>X_COORDINATE</td>\n",
              "            <td>REAL</td>\n",
              "            <td>4</td>\n",
              "        </tr>\n",
              "        <tr>\n",
              "            <td>Y_COORDINATE</td>\n",
              "            <td>REAL</td>\n",
              "            <td>4</td>\n",
              "        </tr>\n",
              "        <tr>\n",
              "            <td>Latitude</td>\n",
              "            <td>REAL</td>\n",
              "            <td>4</td>\n",
              "        </tr>\n",
              "        <tr>\n",
              "            <td>Longitude</td>\n",
              "            <td>REAL</td>\n",
              "            <td>4</td>\n",
              "        </tr>\n",
              "        <tr>\n",
              "            <td>COMMUNITY_AREA_NUMBER</td>\n",
              "            <td>INTEGER</td>\n",
              "            <td>7</td>\n",
              "        </tr>\n",
              "        <tr>\n",
              "            <td>COMMUNITY_AREA_NAME</td>\n",
              "            <td>TEXT</td>\n",
              "            <td>4</td>\n",
              "        </tr>\n",
              "        <tr>\n",
              "            <td>Ward</td>\n",
              "            <td>INTEGER</td>\n",
              "            <td>7</td>\n",
              "        </tr>\n",
              "        <tr>\n",
              "            <td>Police_District</td>\n",
              "            <td>INTEGER</td>\n",
              "            <td>7</td>\n",
              "        </tr>\n",
              "        <tr>\n",
              "            <td>Location</td>\n",
              "            <td>TEXT</td>\n",
              "            <td>4</td>\n",
              "        </tr>\n",
              "    </tbody>\n",
              "</table>"
            ]
          },
          "metadata": {},
          "execution_count": 10
        }
      ]
    },
    {
      "cell_type": "code",
      "source": [
        "%sql SELECT name,type,length(type) FROM PRAGMA_TABLE_INFO(\"ChicagoCensusData\");"
      ],
      "metadata": {
        "colab": {
          "base_uri": "https://localhost:8080/",
          "height": 259
        },
        "id": "uV79hCOGWKSq",
        "outputId": "24af687c-2074-4612-97a0-81644fa46f97"
      },
      "execution_count": 11,
      "outputs": [
        {
          "output_type": "stream",
          "name": "stdout",
          "text": [
            " * sqlite:///FinalDB.db\n",
            "Done.\n"
          ]
        },
        {
          "output_type": "execute_result",
          "data": {
            "text/plain": [
              "[('COMMUNITY_AREA_NUMBER', 'REAL', 4),\n",
              " ('COMMUNITY_AREA_NAME', 'TEXT', 4),\n",
              " ('PERCENT_OF_HOUSING_CROWDED', 'REAL', 4),\n",
              " ('PERCENT_HOUSEHOLDS_BELOW_POVERTY', 'REAL', 4),\n",
              " ('PERCENT_AGED_16__UNEMPLOYED', 'REAL', 4),\n",
              " ('PERCENT_AGED_25__WITHOUT_HIGH_SCHOOL_DIPLOMA', 'REAL', 4),\n",
              " ('PERCENT_AGED_UNDER_18_OR_OVER_64', 'REAL', 4),\n",
              " ('PER_CAPITA_INCOME', 'INTEGER', 7),\n",
              " ('HARDSHIP_INDEX', 'REAL', 4)]"
            ],
            "text/html": [
              "<table>\n",
              "    <thead>\n",
              "        <tr>\n",
              "            <th>name</th>\n",
              "            <th>type</th>\n",
              "            <th>length(type)</th>\n",
              "        </tr>\n",
              "    </thead>\n",
              "    <tbody>\n",
              "        <tr>\n",
              "            <td>COMMUNITY_AREA_NUMBER</td>\n",
              "            <td>REAL</td>\n",
              "            <td>4</td>\n",
              "        </tr>\n",
              "        <tr>\n",
              "            <td>COMMUNITY_AREA_NAME</td>\n",
              "            <td>TEXT</td>\n",
              "            <td>4</td>\n",
              "        </tr>\n",
              "        <tr>\n",
              "            <td>PERCENT_OF_HOUSING_CROWDED</td>\n",
              "            <td>REAL</td>\n",
              "            <td>4</td>\n",
              "        </tr>\n",
              "        <tr>\n",
              "            <td>PERCENT_HOUSEHOLDS_BELOW_POVERTY</td>\n",
              "            <td>REAL</td>\n",
              "            <td>4</td>\n",
              "        </tr>\n",
              "        <tr>\n",
              "            <td>PERCENT_AGED_16__UNEMPLOYED</td>\n",
              "            <td>REAL</td>\n",
              "            <td>4</td>\n",
              "        </tr>\n",
              "        <tr>\n",
              "            <td>PERCENT_AGED_25__WITHOUT_HIGH_SCHOOL_DIPLOMA</td>\n",
              "            <td>REAL</td>\n",
              "            <td>4</td>\n",
              "        </tr>\n",
              "        <tr>\n",
              "            <td>PERCENT_AGED_UNDER_18_OR_OVER_64</td>\n",
              "            <td>REAL</td>\n",
              "            <td>4</td>\n",
              "        </tr>\n",
              "        <tr>\n",
              "            <td>PER_CAPITA_INCOME</td>\n",
              "            <td>INTEGER</td>\n",
              "            <td>7</td>\n",
              "        </tr>\n",
              "        <tr>\n",
              "            <td>HARDSHIP_INDEX</td>\n",
              "            <td>REAL</td>\n",
              "            <td>4</td>\n",
              "        </tr>\n",
              "    </tbody>\n",
              "</table>"
            ]
          },
          "metadata": {},
          "execution_count": 11
        }
      ]
    },
    {
      "cell_type": "code",
      "source": [
        "%sql SELECT name,type,length(type) FROM PRAGMA_TABLE_INFO(\"ChicagoCrimeData\");"
      ],
      "metadata": {
        "colab": {
          "base_uri": "https://localhost:8080/",
          "height": 505
        },
        "id": "2ka1ZSmfYr-F",
        "outputId": "ffe6e87e-b492-4ffd-c362-56a570f24716"
      },
      "execution_count": 12,
      "outputs": [
        {
          "output_type": "stream",
          "name": "stdout",
          "text": [
            " * sqlite:///FinalDB.db\n",
            "Done.\n"
          ]
        },
        {
          "output_type": "execute_result",
          "data": {
            "text/plain": [
              "[('ID', 'INTEGER', 7),\n",
              " ('CASE_NUMBER', 'TEXT', 4),\n",
              " ('DATE', 'TEXT', 4),\n",
              " ('BLOCK', 'TEXT', 4),\n",
              " ('IUCR', 'TEXT', 4),\n",
              " ('PRIMARY_TYPE', 'TEXT', 4),\n",
              " ('DESCRIPTION', 'TEXT', 4),\n",
              " ('LOCATION_DESCRIPTION', 'TEXT', 4),\n",
              " ('ARREST', 'INTEGER', 7),\n",
              " ('DOMESTIC', 'INTEGER', 7),\n",
              " ('BEAT', 'INTEGER', 7),\n",
              " ('DISTRICT', 'INTEGER', 7),\n",
              " ('WARD', 'REAL', 4),\n",
              " ('COMMUNITY_AREA_NUMBER', 'REAL', 4),\n",
              " ('FBICODE', 'TEXT', 4),\n",
              " ('X_COORDINATE', 'REAL', 4),\n",
              " ('Y_COORDINATE', 'REAL', 4),\n",
              " ('YEAR', 'INTEGER', 7),\n",
              " ('LATITUDE', 'REAL', 4),\n",
              " ('LONGITUDE', 'REAL', 4),\n",
              " ('LOCATION', 'TEXT', 4)]"
            ],
            "text/html": [
              "<table>\n",
              "    <thead>\n",
              "        <tr>\n",
              "            <th>name</th>\n",
              "            <th>type</th>\n",
              "            <th>length(type)</th>\n",
              "        </tr>\n",
              "    </thead>\n",
              "    <tbody>\n",
              "        <tr>\n",
              "            <td>ID</td>\n",
              "            <td>INTEGER</td>\n",
              "            <td>7</td>\n",
              "        </tr>\n",
              "        <tr>\n",
              "            <td>CASE_NUMBER</td>\n",
              "            <td>TEXT</td>\n",
              "            <td>4</td>\n",
              "        </tr>\n",
              "        <tr>\n",
              "            <td>DATE</td>\n",
              "            <td>TEXT</td>\n",
              "            <td>4</td>\n",
              "        </tr>\n",
              "        <tr>\n",
              "            <td>BLOCK</td>\n",
              "            <td>TEXT</td>\n",
              "            <td>4</td>\n",
              "        </tr>\n",
              "        <tr>\n",
              "            <td>IUCR</td>\n",
              "            <td>TEXT</td>\n",
              "            <td>4</td>\n",
              "        </tr>\n",
              "        <tr>\n",
              "            <td>PRIMARY_TYPE</td>\n",
              "            <td>TEXT</td>\n",
              "            <td>4</td>\n",
              "        </tr>\n",
              "        <tr>\n",
              "            <td>DESCRIPTION</td>\n",
              "            <td>TEXT</td>\n",
              "            <td>4</td>\n",
              "        </tr>\n",
              "        <tr>\n",
              "            <td>LOCATION_DESCRIPTION</td>\n",
              "            <td>TEXT</td>\n",
              "            <td>4</td>\n",
              "        </tr>\n",
              "        <tr>\n",
              "            <td>ARREST</td>\n",
              "            <td>INTEGER</td>\n",
              "            <td>7</td>\n",
              "        </tr>\n",
              "        <tr>\n",
              "            <td>DOMESTIC</td>\n",
              "            <td>INTEGER</td>\n",
              "            <td>7</td>\n",
              "        </tr>\n",
              "        <tr>\n",
              "            <td>BEAT</td>\n",
              "            <td>INTEGER</td>\n",
              "            <td>7</td>\n",
              "        </tr>\n",
              "        <tr>\n",
              "            <td>DISTRICT</td>\n",
              "            <td>INTEGER</td>\n",
              "            <td>7</td>\n",
              "        </tr>\n",
              "        <tr>\n",
              "            <td>WARD</td>\n",
              "            <td>REAL</td>\n",
              "            <td>4</td>\n",
              "        </tr>\n",
              "        <tr>\n",
              "            <td>COMMUNITY_AREA_NUMBER</td>\n",
              "            <td>REAL</td>\n",
              "            <td>4</td>\n",
              "        </tr>\n",
              "        <tr>\n",
              "            <td>FBICODE</td>\n",
              "            <td>TEXT</td>\n",
              "            <td>4</td>\n",
              "        </tr>\n",
              "        <tr>\n",
              "            <td>X_COORDINATE</td>\n",
              "            <td>REAL</td>\n",
              "            <td>4</td>\n",
              "        </tr>\n",
              "        <tr>\n",
              "            <td>Y_COORDINATE</td>\n",
              "            <td>REAL</td>\n",
              "            <td>4</td>\n",
              "        </tr>\n",
              "        <tr>\n",
              "            <td>YEAR</td>\n",
              "            <td>INTEGER</td>\n",
              "            <td>7</td>\n",
              "        </tr>\n",
              "        <tr>\n",
              "            <td>LATITUDE</td>\n",
              "            <td>REAL</td>\n",
              "            <td>4</td>\n",
              "        </tr>\n",
              "        <tr>\n",
              "            <td>LONGITUDE</td>\n",
              "            <td>REAL</td>\n",
              "            <td>4</td>\n",
              "        </tr>\n",
              "        <tr>\n",
              "            <td>LOCATION</td>\n",
              "            <td>TEXT</td>\n",
              "            <td>4</td>\n",
              "        </tr>\n",
              "    </tbody>\n",
              "</table>"
            ]
          },
          "metadata": {},
          "execution_count": 12
        }
      ]
    },
    {
      "cell_type": "markdown",
      "source": [
        "## **Problem 1**\n",
        "###Find the total number of crimes recorded in the CRIME table."
      ],
      "metadata": {
        "id": "0NXNOKF-Ywyr"
      }
    },
    {
      "cell_type": "code",
      "source": [
        "%sql select count(*)  FROM \"ChicagoCrimeData\""
      ],
      "metadata": {
        "colab": {
          "base_uri": "https://localhost:8080/",
          "height": 96
        },
        "id": "sPeME-HsY_9z",
        "outputId": "d4687cdb-9f64-455f-a078-6c31e67761ef"
      },
      "execution_count": 13,
      "outputs": [
        {
          "output_type": "stream",
          "name": "stdout",
          "text": [
            " * sqlite:///FinalDB.db\n",
            "Done.\n"
          ]
        },
        {
          "output_type": "execute_result",
          "data": {
            "text/plain": [
              "[(533,)]"
            ],
            "text/html": [
              "<table>\n",
              "    <thead>\n",
              "        <tr>\n",
              "            <th>count(*)</th>\n",
              "        </tr>\n",
              "    </thead>\n",
              "    <tbody>\n",
              "        <tr>\n",
              "            <td>533</td>\n",
              "        </tr>\n",
              "    </tbody>\n",
              "</table>"
            ]
          },
          "metadata": {},
          "execution_count": 13
        }
      ]
    },
    {
      "cell_type": "markdown",
      "source": [
        "# **Problem 2**\n",
        "##List community areas with per capita income less than 11000."
      ],
      "metadata": {
        "id": "ekWegy0FcI5C"
      }
    },
    {
      "cell_type": "code",
      "source": [
        "%sql select COMMUNITY_AREA_NAME, PER_CAPITA_INCOME FROM \"ChicagoCensusData\" where PER_CAPITA_INCOME < 11000"
      ],
      "metadata": {
        "colab": {
          "base_uri": "https://localhost:8080/",
          "height": 157
        },
        "id": "3n2F0tyRcU-p",
        "outputId": "a6d21b26-eec7-46b4-b998-632d90ed314f"
      },
      "execution_count": 14,
      "outputs": [
        {
          "output_type": "stream",
          "name": "stdout",
          "text": [
            " * sqlite:///FinalDB.db\n",
            "Done.\n"
          ]
        },
        {
          "output_type": "execute_result",
          "data": {
            "text/plain": [
              "[('West Garfield Park', 10934),\n",
              " ('South Lawndale', 10402),\n",
              " ('Fuller Park', 10432),\n",
              " ('Riverdale', 8201)]"
            ],
            "text/html": [
              "<table>\n",
              "    <thead>\n",
              "        <tr>\n",
              "            <th>COMMUNITY_AREA_NAME</th>\n",
              "            <th>PER_CAPITA_INCOME</th>\n",
              "        </tr>\n",
              "    </thead>\n",
              "    <tbody>\n",
              "        <tr>\n",
              "            <td>West Garfield Park</td>\n",
              "            <td>10934</td>\n",
              "        </tr>\n",
              "        <tr>\n",
              "            <td>South Lawndale</td>\n",
              "            <td>10402</td>\n",
              "        </tr>\n",
              "        <tr>\n",
              "            <td>Fuller Park</td>\n",
              "            <td>10432</td>\n",
              "        </tr>\n",
              "        <tr>\n",
              "            <td>Riverdale</td>\n",
              "            <td>8201</td>\n",
              "        </tr>\n",
              "    </tbody>\n",
              "</table>"
            ]
          },
          "metadata": {},
          "execution_count": 14
        }
      ]
    },
    {
      "cell_type": "markdown",
      "source": [
        "# **Problem 3**\n",
        "##List all case numbers for crimes involving minors?(children are not considered minors for the purposes of crime analysis)\n",
        "​"
      ],
      "metadata": {
        "id": "3ksrXjWueAeg"
      }
    },
    {
      "cell_type": "code",
      "source": [
        "%sql SELECT DISTINCT CASE_NUMBER from ChicagoCrimeData where DESCRIPTION like '%MINOR%'"
      ],
      "metadata": {
        "colab": {
          "base_uri": "https://localhost:8080/",
          "height": 116
        },
        "id": "tb98hdLNeTon",
        "outputId": "04c82621-3882-4569-8628-dfcc8f4a2efb"
      },
      "execution_count": 15,
      "outputs": [
        {
          "output_type": "stream",
          "name": "stdout",
          "text": [
            " * sqlite:///FinalDB.db\n",
            "Done.\n"
          ]
        },
        {
          "output_type": "execute_result",
          "data": {
            "text/plain": [
              "[('HL266884',), ('HK238408',)]"
            ],
            "text/html": [
              "<table>\n",
              "    <thead>\n",
              "        <tr>\n",
              "            <th>CASE_NUMBER</th>\n",
              "        </tr>\n",
              "    </thead>\n",
              "    <tbody>\n",
              "        <tr>\n",
              "            <td>HL266884</td>\n",
              "        </tr>\n",
              "        <tr>\n",
              "            <td>HK238408</td>\n",
              "        </tr>\n",
              "    </tbody>\n",
              "</table>"
            ]
          },
          "metadata": {},
          "execution_count": 15
        }
      ]
    },
    {
      "cell_type": "markdown",
      "source": [
        "\n",
        "# Problem 4\n",
        "## List all kidnapping crimes involving a child?\n"
      ],
      "metadata": {
        "id": "lH33Ff-XuUdb"
      }
    },
    {
      "cell_type": "code",
      "source": [
        "%sql SELECT DISTINCT CASE_NUMBER, PRIMARY_TYPE, DESCRIPTION FROM \"ChicagoCrimeData\" WHERE PRIMARY_TYPE LIKE '%KIDNAPPING%' AND \\\n",
        " DESCRIPTION LIKE '%CHILD%'"
      ],
      "metadata": {
        "colab": {
          "base_uri": "https://localhost:8080/",
          "height": 96
        },
        "id": "ZS1NUmEDvaAQ",
        "outputId": "402ad491-f778-45d2-b108-063fa9e56a3e"
      },
      "execution_count": 53,
      "outputs": [
        {
          "output_type": "stream",
          "name": "stdout",
          "text": [
            " * sqlite:///FinalDB.db\n",
            "Done.\n"
          ]
        },
        {
          "output_type": "execute_result",
          "data": {
            "text/plain": [
              "[('HN144152', 'KIDNAPPING', 'CHILD ABDUCTION/STRANGER')]"
            ],
            "text/html": [
              "<table>\n",
              "    <thead>\n",
              "        <tr>\n",
              "            <th>CASE_NUMBER</th>\n",
              "            <th>PRIMARY_TYPE</th>\n",
              "            <th>DESCRIPTION</th>\n",
              "        </tr>\n",
              "    </thead>\n",
              "    <tbody>\n",
              "        <tr>\n",
              "            <td>HN144152</td>\n",
              "            <td>KIDNAPPING</td>\n",
              "            <td>CHILD ABDUCTION/STRANGER</td>\n",
              "        </tr>\n",
              "    </tbody>\n",
              "</table>"
            ]
          },
          "metadata": {},
          "execution_count": 53
        }
      ]
    },
    {
      "cell_type": "markdown",
      "source": [
        "# Problem 5\n",
        "## What kinds of crimes were recorded at schools?"
      ],
      "metadata": {
        "id": "Ba50jIWB_2Iy"
      }
    },
    {
      "cell_type": "code",
      "source": [
        "%sql select PRIMARY_TYPE FROM ChicagoCrimeData where LOCATION_DESCRIPTION LIKE '%SCHOOL%'"
      ],
      "metadata": {
        "colab": {
          "base_uri": "https://localhost:8080/",
          "height": 321
        },
        "id": "RrAzqE0sDA-V",
        "outputId": "d3632506-e93b-4f31-9cb0-e265f366d42a"
      },
      "execution_count": 17,
      "outputs": [
        {
          "output_type": "stream",
          "name": "stdout",
          "text": [
            " * sqlite:///FinalDB.db\n",
            "Done.\n"
          ]
        },
        {
          "output_type": "execute_result",
          "data": {
            "text/plain": [
              "[('BATTERY',),\n",
              " ('BATTERY',),\n",
              " ('BATTERY',),\n",
              " ('BATTERY',),\n",
              " ('BATTERY',),\n",
              " ('CRIMINAL DAMAGE',),\n",
              " ('NARCOTICS',),\n",
              " ('NARCOTICS',),\n",
              " ('ASSAULT',),\n",
              " ('CRIMINAL TRESPASS',),\n",
              " ('PUBLIC PEACE VIOLATION',),\n",
              " ('PUBLIC PEACE VIOLATION',)]"
            ],
            "text/html": [
              "<table>\n",
              "    <thead>\n",
              "        <tr>\n",
              "            <th>PRIMARY_TYPE</th>\n",
              "        </tr>\n",
              "    </thead>\n",
              "    <tbody>\n",
              "        <tr>\n",
              "            <td>BATTERY</td>\n",
              "        </tr>\n",
              "        <tr>\n",
              "            <td>BATTERY</td>\n",
              "        </tr>\n",
              "        <tr>\n",
              "            <td>BATTERY</td>\n",
              "        </tr>\n",
              "        <tr>\n",
              "            <td>BATTERY</td>\n",
              "        </tr>\n",
              "        <tr>\n",
              "            <td>BATTERY</td>\n",
              "        </tr>\n",
              "        <tr>\n",
              "            <td>CRIMINAL DAMAGE</td>\n",
              "        </tr>\n",
              "        <tr>\n",
              "            <td>NARCOTICS</td>\n",
              "        </tr>\n",
              "        <tr>\n",
              "            <td>NARCOTICS</td>\n",
              "        </tr>\n",
              "        <tr>\n",
              "            <td>ASSAULT</td>\n",
              "        </tr>\n",
              "        <tr>\n",
              "            <td>CRIMINAL TRESPASS</td>\n",
              "        </tr>\n",
              "        <tr>\n",
              "            <td>PUBLIC PEACE VIOLATION</td>\n",
              "        </tr>\n",
              "        <tr>\n",
              "            <td>PUBLIC PEACE VIOLATION</td>\n",
              "        </tr>\n",
              "    </tbody>\n",
              "</table>"
            ]
          },
          "metadata": {},
          "execution_count": 17
        }
      ]
    },
    {
      "cell_type": "markdown",
      "source": [
        "# Problem 6\n",
        "## List the average safety score for each type of school.\n",
        "​"
      ],
      "metadata": {
        "id": "JpkbirPXFeLQ"
      }
    },
    {
      "cell_type": "code",
      "source": [
        "from numpy.lib.function_base import average\n",
        "%sql select \"Elementary, Middle, or High School\", round(AVG(SAFETY_SCORE)) as AVERAGE_SAFETY_SCORE from 'ChicagoPublicSchools' \\\n",
        "group by \"Elementary, Middle, or High School\"\n"
      ],
      "metadata": {
        "colab": {
          "base_uri": "https://localhost:8080/",
          "height": 137
        },
        "id": "CpEvqZOGFrHb",
        "outputId": "c7568157-0aaf-40a4-bafb-7e9b355f4b17"
      },
      "execution_count": 59,
      "outputs": [
        {
          "output_type": "stream",
          "name": "stdout",
          "text": [
            " * sqlite:///FinalDB.db\n",
            "Done.\n"
          ]
        },
        {
          "output_type": "execute_result",
          "data": {
            "text/plain": [
              "[('ES', 50.0), ('HS', 50.0), ('MS', 48.0)]"
            ],
            "text/html": [
              "<table>\n",
              "    <thead>\n",
              "        <tr>\n",
              "            <th>Elementary, Middle, or High School</th>\n",
              "            <th>AVERAGE_SAFETY_SCORE</th>\n",
              "        </tr>\n",
              "    </thead>\n",
              "    <tbody>\n",
              "        <tr>\n",
              "            <td>ES</td>\n",
              "            <td>50.0</td>\n",
              "        </tr>\n",
              "        <tr>\n",
              "            <td>HS</td>\n",
              "            <td>50.0</td>\n",
              "        </tr>\n",
              "        <tr>\n",
              "            <td>MS</td>\n",
              "            <td>48.0</td>\n",
              "        </tr>\n",
              "    </tbody>\n",
              "</table>"
            ]
          },
          "metadata": {},
          "execution_count": 59
        }
      ]
    },
    {
      "cell_type": "markdown",
      "source": [
        "# **Problem 7**\n",
        "## List 5 community areas with highest % of households below poverty line"
      ],
      "metadata": {
        "id": "v92ycwhUOOEX"
      }
    },
    {
      "cell_type": "code",
      "source": [
        "%sql SELECT name,type,length(type) FROM PRAGMA_TABLE_INFO(\"ChicagoCensusData\");"
      ],
      "metadata": {
        "colab": {
          "base_uri": "https://localhost:8080/",
          "height": 259
        },
        "id": "W1IWn5G5O111",
        "outputId": "60b7b1f6-92af-4094-f652-fb326f2da548"
      },
      "execution_count": 19,
      "outputs": [
        {
          "output_type": "stream",
          "name": "stdout",
          "text": [
            " * sqlite:///FinalDB.db\n",
            "Done.\n"
          ]
        },
        {
          "output_type": "execute_result",
          "data": {
            "text/plain": [
              "[('COMMUNITY_AREA_NUMBER', 'REAL', 4),\n",
              " ('COMMUNITY_AREA_NAME', 'TEXT', 4),\n",
              " ('PERCENT_OF_HOUSING_CROWDED', 'REAL', 4),\n",
              " ('PERCENT_HOUSEHOLDS_BELOW_POVERTY', 'REAL', 4),\n",
              " ('PERCENT_AGED_16__UNEMPLOYED', 'REAL', 4),\n",
              " ('PERCENT_AGED_25__WITHOUT_HIGH_SCHOOL_DIPLOMA', 'REAL', 4),\n",
              " ('PERCENT_AGED_UNDER_18_OR_OVER_64', 'REAL', 4),\n",
              " ('PER_CAPITA_INCOME', 'INTEGER', 7),\n",
              " ('HARDSHIP_INDEX', 'REAL', 4)]"
            ],
            "text/html": [
              "<table>\n",
              "    <thead>\n",
              "        <tr>\n",
              "            <th>name</th>\n",
              "            <th>type</th>\n",
              "            <th>length(type)</th>\n",
              "        </tr>\n",
              "    </thead>\n",
              "    <tbody>\n",
              "        <tr>\n",
              "            <td>COMMUNITY_AREA_NUMBER</td>\n",
              "            <td>REAL</td>\n",
              "            <td>4</td>\n",
              "        </tr>\n",
              "        <tr>\n",
              "            <td>COMMUNITY_AREA_NAME</td>\n",
              "            <td>TEXT</td>\n",
              "            <td>4</td>\n",
              "        </tr>\n",
              "        <tr>\n",
              "            <td>PERCENT_OF_HOUSING_CROWDED</td>\n",
              "            <td>REAL</td>\n",
              "            <td>4</td>\n",
              "        </tr>\n",
              "        <tr>\n",
              "            <td>PERCENT_HOUSEHOLDS_BELOW_POVERTY</td>\n",
              "            <td>REAL</td>\n",
              "            <td>4</td>\n",
              "        </tr>\n",
              "        <tr>\n",
              "            <td>PERCENT_AGED_16__UNEMPLOYED</td>\n",
              "            <td>REAL</td>\n",
              "            <td>4</td>\n",
              "        </tr>\n",
              "        <tr>\n",
              "            <td>PERCENT_AGED_25__WITHOUT_HIGH_SCHOOL_DIPLOMA</td>\n",
              "            <td>REAL</td>\n",
              "            <td>4</td>\n",
              "        </tr>\n",
              "        <tr>\n",
              "            <td>PERCENT_AGED_UNDER_18_OR_OVER_64</td>\n",
              "            <td>REAL</td>\n",
              "            <td>4</td>\n",
              "        </tr>\n",
              "        <tr>\n",
              "            <td>PER_CAPITA_INCOME</td>\n",
              "            <td>INTEGER</td>\n",
              "            <td>7</td>\n",
              "        </tr>\n",
              "        <tr>\n",
              "            <td>HARDSHIP_INDEX</td>\n",
              "            <td>REAL</td>\n",
              "            <td>4</td>\n",
              "        </tr>\n",
              "    </tbody>\n",
              "</table>"
            ]
          },
          "metadata": {},
          "execution_count": 19
        }
      ]
    },
    {
      "cell_type": "code",
      "source": [
        "%sql select COMMUNITY_AREA_NAME, PERCENT_HOUSEHOLDS_BELOW_POVERTY from ChicagoCensusData \\\n",
        "      order by PERCENT_HOUSEHOLDS_BELOW_POVERTY desc LIMIT 5\n",
        "\n",
        ""
      ],
      "metadata": {
        "colab": {
          "base_uri": "https://localhost:8080/",
          "height": 178
        },
        "id": "X7Leltw-QuS6",
        "outputId": "6aa4b7a5-004c-4e00-ca35-c27161830d9a"
      },
      "execution_count": 60,
      "outputs": [
        {
          "output_type": "stream",
          "name": "stdout",
          "text": [
            " * sqlite:///FinalDB.db\n",
            "Done.\n"
          ]
        },
        {
          "output_type": "execute_result",
          "data": {
            "text/plain": [
              "[('Riverdale', 56.5),\n",
              " ('Fuller Park', 51.2),\n",
              " ('Englewood', 46.6),\n",
              " ('North Lawndale', 43.1),\n",
              " ('East Garfield Park', 42.4)]"
            ],
            "text/html": [
              "<table>\n",
              "    <thead>\n",
              "        <tr>\n",
              "            <th>COMMUNITY_AREA_NAME</th>\n",
              "            <th>PERCENT_HOUSEHOLDS_BELOW_POVERTY</th>\n",
              "        </tr>\n",
              "    </thead>\n",
              "    <tbody>\n",
              "        <tr>\n",
              "            <td>Riverdale</td>\n",
              "            <td>56.5</td>\n",
              "        </tr>\n",
              "        <tr>\n",
              "            <td>Fuller Park</td>\n",
              "            <td>51.2</td>\n",
              "        </tr>\n",
              "        <tr>\n",
              "            <td>Englewood</td>\n",
              "            <td>46.6</td>\n",
              "        </tr>\n",
              "        <tr>\n",
              "            <td>North Lawndale</td>\n",
              "            <td>43.1</td>\n",
              "        </tr>\n",
              "        <tr>\n",
              "            <td>East Garfield Park</td>\n",
              "            <td>42.4</td>\n",
              "        </tr>\n",
              "    </tbody>\n",
              "</table>"
            ]
          },
          "metadata": {},
          "execution_count": 60
        }
      ]
    },
    {
      "cell_type": "markdown",
      "source": [
        "# **Problem 8**\n",
        "##Which community area is most crime prone?"
      ],
      "metadata": {
        "id": "YttXCZrRG0E7"
      }
    },
    {
      "cell_type": "code",
      "source": [
        "%sql select COMMUNITY_AREA_NUMBER, PRIMARY_TYPE, count(*) from ChicagoCrimeData where COMMUNITY_AREA_NUMBER=25.0 \\\n",
        " group by COMMUNITY_AREA_NUMBER"
      ],
      "metadata": {
        "colab": {
          "base_uri": "https://localhost:8080/",
          "height": 96
        },
        "id": "tTjS6EMsHkbp",
        "outputId": "8a70f078-5e2a-4bdd-e4f2-4796a4833b2b"
      },
      "execution_count": 21,
      "outputs": [
        {
          "output_type": "stream",
          "name": "stdout",
          "text": [
            " * sqlite:///FinalDB.db\n",
            "Done.\n"
          ]
        },
        {
          "output_type": "execute_result",
          "data": {
            "text/plain": [
              "[(25.0, 'THEFT', 43)]"
            ],
            "text/html": [
              "<table>\n",
              "    <thead>\n",
              "        <tr>\n",
              "            <th>COMMUNITY_AREA_NUMBER</th>\n",
              "            <th>PRIMARY_TYPE</th>\n",
              "            <th>count(*)</th>\n",
              "        </tr>\n",
              "    </thead>\n",
              "    <tbody>\n",
              "        <tr>\n",
              "            <td>25.0</td>\n",
              "            <td>THEFT</td>\n",
              "            <td>43</td>\n",
              "        </tr>\n",
              "    </tbody>\n",
              "</table>"
            ]
          },
          "metadata": {},
          "execution_count": 21
        }
      ]
    },
    {
      "cell_type": "markdown",
      "source": [
        "#**Problem 9**\n",
        "\n",
        "##Use a sub-query to find the name of the community area with highest hardship index"
      ],
      "metadata": {
        "id": "JZg0dRsKaNVG"
      }
    },
    {
      "cell_type": "code",
      "source": [
        "%sql select COMMUNITY_AREA_NUMBER, COMMUNITY_AREA_NAME, HARDSHIP_INDEX FROM ChicagoCensusData WHERE \\\n",
        " HARDSHIP_INDEX=(select MAX(HARDSHIP_INDEX) FROM ChicagoCensusData)"
      ],
      "metadata": {
        "colab": {
          "base_uri": "https://localhost:8080/",
          "height": 96
        },
        "id": "s4aCRLd0fZPu",
        "outputId": "3a9a7d80-de69-4d88-ea1e-a4ad58b3b475"
      },
      "execution_count": 51,
      "outputs": [
        {
          "output_type": "stream",
          "name": "stdout",
          "text": [
            " * sqlite:///FinalDB.db\n",
            "Done.\n"
          ]
        },
        {
          "output_type": "execute_result",
          "data": {
            "text/plain": [
              "[(54.0, 'Riverdale', 98.0)]"
            ],
            "text/html": [
              "<table>\n",
              "    <thead>\n",
              "        <tr>\n",
              "            <th>COMMUNITY_AREA_NUMBER</th>\n",
              "            <th>COMMUNITY_AREA_NAME</th>\n",
              "            <th>HARDSHIP_INDEX</th>\n",
              "        </tr>\n",
              "    </thead>\n",
              "    <tbody>\n",
              "        <tr>\n",
              "            <td>54.0</td>\n",
              "            <td>Riverdale</td>\n",
              "            <td>98.0</td>\n",
              "        </tr>\n",
              "    </tbody>\n",
              "</table>"
            ]
          },
          "metadata": {},
          "execution_count": 51
        }
      ]
    },
    {
      "cell_type": "code",
      "source": [],
      "metadata": {
        "id": "Bo9NmA-HhdJw"
      },
      "execution_count": 22,
      "outputs": []
    },
    {
      "cell_type": "markdown",
      "source": [
        "#**Problem 10**\n",
        "##Use a sub-query to determine the Community Area Name with most number of crimes?\n",
        "​"
      ],
      "metadata": {
        "id": "I6JD2DPEhmFH"
      }
    },
    {
      "cell_type": "code",
      "source": [
        "#from posixpath import join USED ONLY FOR JOINING"
      ],
      "metadata": {
        "id": "3ZSZFY5RmACl"
      },
      "execution_count": 82,
      "outputs": []
    },
    {
      "cell_type": "code",
      "source": [
        "%%sql\n",
        "SELECT COMMUNITY_AREA_NAME FROM ChicagoCensusData where\n",
        "COMMUNITY_AREA_NUMBER=(select COMMUNITY_AREA_NUMBER from ChicagoCensusData where\n",
        "COMMUNITY_AREA_NUMBER=25.0 limit 1)"
      ],
      "metadata": {
        "colab": {
          "base_uri": "https://localhost:8080/",
          "height": 96
        },
        "id": "Fb5dMKPflHCw",
        "outputId": "6073a7c4-44ca-44b6-a729-42ee7d896ed9"
      },
      "execution_count": 80,
      "outputs": [
        {
          "output_type": "stream",
          "name": "stdout",
          "text": [
            " * sqlite:///FinalDB.db\n",
            "Done.\n"
          ]
        },
        {
          "output_type": "execute_result",
          "data": {
            "text/plain": [
              "[('Austin',)]"
            ],
            "text/html": [
              "<table>\n",
              "    <thead>\n",
              "        <tr>\n",
              "            <th>COMMUNITY_AREA_NAME</th>\n",
              "        </tr>\n",
              "    </thead>\n",
              "    <tbody>\n",
              "        <tr>\n",
              "            <td>Austin</td>\n",
              "        </tr>\n",
              "    </tbody>\n",
              "</table>"
            ]
          },
          "metadata": {},
          "execution_count": 80
        }
      ]
    }
  ]
}